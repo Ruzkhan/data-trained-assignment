{
 "cells": [
  {
   "cell_type": "code",
   "execution_count": 1,
   "id": "e0375151",
   "metadata": {},
   "outputs": [],
   "source": [
    "#Assignment 2"
   ]
  },
  {
   "cell_type": "code",
   "execution_count": 2,
   "id": "c31ba061",
   "metadata": {},
   "outputs": [],
   "source": [
    "#Data Structures\n",
    "\n",
    "#Do practice the code given below and complete the task .\n",
    "\n",
    "#squares = [1, 4, 9, 16, 25]\n",
    "\n",
    "#squares\n",
    "\n",
    "#squares[0] # indexing returns the item\n",
    "\n",
    "#squares[-1]\n",
    "\n",
    "#squares[-3:]\n",
    "\n",
    "#squares[:]"
   ]
  },
  {
   "cell_type": "code",
   "execution_count": 3,
   "id": "f5d61339",
   "metadata": {},
   "outputs": [],
   "source": [
    "squares = [1, 4, 9, 16, 25]"
   ]
  },
  {
   "cell_type": "code",
   "execution_count": 4,
   "id": "1bdfbf23",
   "metadata": {},
   "outputs": [
    {
     "data": {
      "text/plain": [
       "1"
      ]
     },
     "execution_count": 4,
     "metadata": {},
     "output_type": "execute_result"
    }
   ],
   "source": [
    "squares[0]"
   ]
  },
  {
   "cell_type": "code",
   "execution_count": 5,
   "id": "d3efcd04",
   "metadata": {},
   "outputs": [
    {
     "data": {
      "text/plain": [
       "25"
      ]
     },
     "execution_count": 5,
     "metadata": {},
     "output_type": "execute_result"
    }
   ],
   "source": [
    "squares[-1]"
   ]
  },
  {
   "cell_type": "code",
   "execution_count": 6,
   "id": "7b0be64c",
   "metadata": {},
   "outputs": [
    {
     "data": {
      "text/plain": [
       "[9, 16, 25]"
      ]
     },
     "execution_count": 6,
     "metadata": {},
     "output_type": "execute_result"
    }
   ],
   "source": [
    "squares[-3:]"
   ]
  },
  {
   "cell_type": "code",
   "execution_count": 7,
   "id": "efbda88d",
   "metadata": {},
   "outputs": [
    {
     "data": {
      "text/plain": [
       "[1, 4, 9, 16, 25]"
      ]
     },
     "execution_count": 7,
     "metadata": {},
     "output_type": "execute_result"
    }
   ],
   "source": [
    "squares[:]"
   ]
  },
  {
   "cell_type": "code",
   "execution_count": 8,
   "id": "509516f8",
   "metadata": {},
   "outputs": [],
   "source": [
    "#cubes = [1, 8, 27, 65, 125]\n",
    "\n",
    "#cubes[3] = 64\n",
    "\n",
    "#cubes\n",
    "\n",
    "#cubes.append(216) # add the cube of 6\n",
    "\n",
    "#cubes.append(7 ** 3) # and the cube of 7\n",
    "\n",
    "#cubes"
   ]
  },
  {
   "cell_type": "code",
   "execution_count": 9,
   "id": "cf28883a",
   "metadata": {},
   "outputs": [],
   "source": [
    "cubes=[1,8,27,65,125]"
   ]
  },
  {
   "cell_type": "code",
   "execution_count": 10,
   "id": "5ec283cc",
   "metadata": {},
   "outputs": [
    {
     "data": {
      "text/plain": [
       "65"
      ]
     },
     "execution_count": 10,
     "metadata": {},
     "output_type": "execute_result"
    }
   ],
   "source": [
    "cubes[3]"
   ]
  },
  {
   "cell_type": "code",
   "execution_count": 11,
   "id": "03bcc351",
   "metadata": {},
   "outputs": [],
   "source": [
    "cubes.append(216)\n"
   ]
  },
  {
   "cell_type": "code",
   "execution_count": 12,
   "id": "7abc9d4f",
   "metadata": {},
   "outputs": [
    {
     "data": {
      "text/plain": [
       "[1, 8, 27, 65, 125, 216]"
      ]
     },
     "execution_count": 12,
     "metadata": {},
     "output_type": "execute_result"
    }
   ],
   "source": [
    "cubes"
   ]
  },
  {
   "cell_type": "code",
   "execution_count": 13,
   "id": "2781699d",
   "metadata": {},
   "outputs": [],
   "source": [
    "#letters = ['a', 'b', 'c', 'd', 'e', 'f', 'g']\n",
    "\n",
    "#letters"
   ]
  },
  {
   "cell_type": "code",
   "execution_count": 14,
   "id": "2e9021dc",
   "metadata": {},
   "outputs": [
    {
     "data": {
      "text/plain": [
       "['a', 'b', 'c', 'd', 'e', 'f', 'g']"
      ]
     },
     "execution_count": 14,
     "metadata": {},
     "output_type": "execute_result"
    }
   ],
   "source": [
    "letters = ['a', 'b', 'c', 'd', 'e', 'f', 'g']\n",
    "\n",
    "letters"
   ]
  },
  {
   "cell_type": "code",
   "execution_count": 15,
   "id": "a13d5c59",
   "metadata": {},
   "outputs": [],
   "source": [
    "# replace some values\n",
    "\n",
    "#letters[2:5] = ['C', 'D', 'E']\n",
    "\n",
    "#letters\n",
    "\n",
    "#len(letters)"
   ]
  },
  {
   "cell_type": "code",
   "execution_count": 16,
   "id": "b9551a91",
   "metadata": {},
   "outputs": [
    {
     "data": {
      "text/plain": [
       "['c', 'd', 'e']"
      ]
     },
     "execution_count": 16,
     "metadata": {},
     "output_type": "execute_result"
    }
   ],
   "source": [
    "letters[2:5]"
   ]
  },
  {
   "cell_type": "code",
   "execution_count": 17,
   "id": "d983c61a",
   "metadata": {},
   "outputs": [
    {
     "data": {
      "text/plain": [
       "7"
      ]
     },
     "execution_count": 17,
     "metadata": {},
     "output_type": "execute_result"
    }
   ],
   "source": [
    "len(letters)"
   ]
  },
  {
   "cell_type": "code",
   "execution_count": 18,
   "id": "2201ee20",
   "metadata": {},
   "outputs": [],
   "source": [
    "#fruits = ['orange', 'apple', 'pear', 'banana', 'kiwi', 'apple', 'banana']\n",
    "\n",
    "#fruits.count('apple')"
   ]
  },
  {
   "cell_type": "code",
   "execution_count": 19,
   "id": "f97d9df6",
   "metadata": {},
   "outputs": [
    {
     "data": {
      "text/plain": [
       "2"
      ]
     },
     "execution_count": 19,
     "metadata": {},
     "output_type": "execute_result"
    }
   ],
   "source": [
    "fruits=[\"orange\",\"apple\",\"pear\",\"banana\",\"kiwi\",\"banana\"]\n",
    "fruits.count(\"banana\")"
   ]
  },
  {
   "cell_type": "code",
   "execution_count": 20,
   "id": "889b193a",
   "metadata": {},
   "outputs": [],
   "source": [
    "#fruits.count('tangerine') #Return the number of times x appears in the list\n",
    "\n",
    "#fruits.index('banana')"
   ]
  },
  {
   "cell_type": "code",
   "execution_count": 21,
   "id": "aff999a7",
   "metadata": {},
   "outputs": [
    {
     "data": {
      "text/plain": [
       "0"
      ]
     },
     "execution_count": 21,
     "metadata": {},
     "output_type": "execute_result"
    }
   ],
   "source": [
    "fruits.count('tangerine')"
   ]
  },
  {
   "cell_type": "code",
   "execution_count": 22,
   "id": "10732788",
   "metadata": {},
   "outputs": [
    {
     "data": {
      "text/plain": [
       "3"
      ]
     },
     "execution_count": 22,
     "metadata": {},
     "output_type": "execute_result"
    }
   ],
   "source": [
    "fruits.index(\"banana\")"
   ]
  },
  {
   "cell_type": "code",
   "execution_count": 23,
   "id": "2fa7b62e",
   "metadata": {},
   "outputs": [],
   "source": [
    "#fruits.index('banana', 4) # Find next banana starting a position 4\n",
    "#\n",
    "#fruits.reverse()\n",
    "#\n",
    "#fruits\n",
    "#\n",
    "#fruits.append('grape')\n",
    "#"
   ]
  },
  {
   "cell_type": "code",
   "execution_count": 24,
   "id": "1c235f7c",
   "metadata": {},
   "outputs": [
    {
     "data": {
      "text/plain": [
       "['orange', 'apple', 'pear', 'banana', 'kiwi', 'banana']"
      ]
     },
     "execution_count": 24,
     "metadata": {},
     "output_type": "execute_result"
    }
   ],
   "source": [
    "fruits"
   ]
  },
  {
   "cell_type": "code",
   "execution_count": 25,
   "id": "1ae7eece",
   "metadata": {},
   "outputs": [
    {
     "data": {
      "text/plain": [
       "['banana', 'kiwi', 'banana', 'pear', 'apple', 'orange']"
      ]
     },
     "execution_count": 25,
     "metadata": {},
     "output_type": "execute_result"
    }
   ],
   "source": [
    "fruits.reverse()\n",
    "fruits\n"
   ]
  },
  {
   "cell_type": "code",
   "execution_count": 26,
   "id": "12f837cd",
   "metadata": {},
   "outputs": [],
   "source": [
    "fruits.append('Grapes')"
   ]
  },
  {
   "cell_type": "code",
   "execution_count": 27,
   "id": "f5352875",
   "metadata": {},
   "outputs": [
    {
     "data": {
      "text/plain": [
       "['banana', 'kiwi', 'banana', 'pear', 'apple', 'orange', 'Grapes']"
      ]
     },
     "execution_count": 27,
     "metadata": {},
     "output_type": "execute_result"
    }
   ],
   "source": [
    "fruits"
   ]
  },
  {
   "cell_type": "code",
   "execution_count": null,
   "id": "54115295",
   "metadata": {},
   "outputs": [],
   "source": [
    "# fruits\n",
    "#\n",
    "# fruits.sort()\n",
    "#\n",
    "# fruits\n",
    "#\n",
    "#fruits.pop()\n",
    "#"
   ]
  },
  {
   "cell_type": "code",
   "execution_count": 28,
   "id": "eb4f3ee5",
   "metadata": {},
   "outputs": [
    {
     "data": {
      "text/plain": [
       "['banana', 'kiwi', 'banana', 'pear', 'apple', 'orange', 'Grapes']"
      ]
     },
     "execution_count": 28,
     "metadata": {},
     "output_type": "execute_result"
    }
   ],
   "source": [
    "fruits"
   ]
  },
  {
   "cell_type": "code",
   "execution_count": 29,
   "id": "e4995a0b",
   "metadata": {},
   "outputs": [
    {
     "data": {
      "text/plain": [
       "['Grapes', 'apple', 'banana', 'banana', 'kiwi', 'orange', 'pear']"
      ]
     },
     "execution_count": 29,
     "metadata": {},
     "output_type": "execute_result"
    }
   ],
   "source": [
    "fruits.sort()\n",
    "fruits"
   ]
  },
  {
   "cell_type": "code",
   "execution_count": 30,
   "id": "430147dd",
   "metadata": {},
   "outputs": [
    {
     "data": {
      "text/plain": [
       "'banana'"
      ]
     },
     "execution_count": 30,
     "metadata": {},
     "output_type": "execute_result"
    }
   ],
   "source": [
    "fruits.pop(3)"
   ]
  },
  {
   "cell_type": "code",
   "execution_count": 31,
   "id": "921704eb",
   "metadata": {},
   "outputs": [
    {
     "data": {
      "text/plain": [
       "['Grapes', 'apple', 'banana', 'kiwi', 'orange', 'pear']"
      ]
     },
     "execution_count": 31,
     "metadata": {},
     "output_type": "execute_result"
    }
   ],
   "source": [
    "fruits"
   ]
  },
  {
   "cell_type": "code",
   "execution_count": null,
   "id": "8d9c8167",
   "metadata": {},
   "outputs": [],
   "source": [
    "#stack = [3, 4, 5]\n",
    "#\n",
    "#stack.append(6)\n",
    "#\n",
    "#stack.append(7)\n",
    "#\n",
    "#stack"
   ]
  },
  {
   "cell_type": "code",
   "execution_count": 32,
   "id": "bddc56df",
   "metadata": {},
   "outputs": [],
   "source": [
    "stack = [3, 4, 5]"
   ]
  },
  {
   "cell_type": "code",
   "execution_count": 33,
   "id": "a46b890a",
   "metadata": {},
   "outputs": [],
   "source": [
    "stack.append(6)"
   ]
  },
  {
   "cell_type": "code",
   "execution_count": 34,
   "id": "cec1ab16",
   "metadata": {},
   "outputs": [],
   "source": [
    "stack.append(7)"
   ]
  },
  {
   "cell_type": "code",
   "execution_count": 35,
   "id": "8841b180",
   "metadata": {},
   "outputs": [
    {
     "data": {
      "text/plain": [
       "[3, 4, 5, 6, 7]"
      ]
     },
     "execution_count": 35,
     "metadata": {},
     "output_type": "execute_result"
    }
   ],
   "source": [
    "stack"
   ]
  },
  {
   "cell_type": "code",
   "execution_count": null,
   "id": "d7e72caf",
   "metadata": {},
   "outputs": [],
   "source": [
    "#stack.pop()\n",
    "#\n",
    "#stack\n",
    "#\n",
    "#stack.pop()\n",
    "#\n",
    "#stack.pop()\n",
    "#\n",
    "#stack"
   ]
  },
  {
   "cell_type": "code",
   "execution_count": 36,
   "id": "a081fc9c",
   "metadata": {},
   "outputs": [
    {
     "data": {
      "text/plain": [
       "[3, 4, 5, 6, 7]"
      ]
     },
     "execution_count": 36,
     "metadata": {},
     "output_type": "execute_result"
    }
   ],
   "source": [
    "stack"
   ]
  },
  {
   "cell_type": "code",
   "execution_count": 37,
   "id": "e1568a30",
   "metadata": {},
   "outputs": [
    {
     "data": {
      "text/plain": [
       "7"
      ]
     },
     "execution_count": 37,
     "metadata": {},
     "output_type": "execute_result"
    }
   ],
   "source": [
    "stack.pop()"
   ]
  },
  {
   "cell_type": "code",
   "execution_count": 38,
   "id": "3504c36a",
   "metadata": {},
   "outputs": [
    {
     "data": {
      "text/plain": [
       "6"
      ]
     },
     "execution_count": 38,
     "metadata": {},
     "output_type": "execute_result"
    }
   ],
   "source": [
    "stack.pop()"
   ]
  },
  {
   "cell_type": "code",
   "execution_count": 39,
   "id": "afacf819",
   "metadata": {},
   "outputs": [
    {
     "data": {
      "text/plain": [
       "[3, 4, 5]"
      ]
     },
     "execution_count": 39,
     "metadata": {},
     "output_type": "execute_result"
    }
   ],
   "source": [
    "stack"
   ]
  },
  {
   "cell_type": "code",
   "execution_count": null,
   "id": "59daf58f",
   "metadata": {},
   "outputs": [],
   "source": [
    "Task:\n",
    "\n",
    "#1 . Perform all basic set operation such as-add,remove,pop"
   ]
  },
  {
   "cell_type": "code",
   "execution_count": 40,
   "id": "d7a1cb91",
   "metadata": {},
   "outputs": [],
   "source": [
    "task1=[\"saurav\",\"Ruzaina\",\"amisha\",\"lovely\",\"vicky\",\"yash\"]"
   ]
  },
  {
   "cell_type": "code",
   "execution_count": 41,
   "id": "c4065fa2",
   "metadata": {},
   "outputs": [],
   "source": [
    "task1.append(\"Ruzaina\")"
   ]
  },
  {
   "cell_type": "code",
   "execution_count": 42,
   "id": "001d689d",
   "metadata": {},
   "outputs": [
    {
     "data": {
      "text/plain": [
       "['saurav', 'Ruzaina', 'amisha', 'lovely', 'vicky', 'yash', 'Ruzaina']"
      ]
     },
     "execution_count": 42,
     "metadata": {},
     "output_type": "execute_result"
    }
   ],
   "source": [
    "task1"
   ]
  },
  {
   "cell_type": "code",
   "execution_count": 43,
   "id": "6a01259d",
   "metadata": {},
   "outputs": [
    {
     "data": {
      "text/plain": [
       "2"
      ]
     },
     "execution_count": 43,
     "metadata": {},
     "output_type": "execute_result"
    }
   ],
   "source": [
    "task1.index(\"amisha\")"
   ]
  },
  {
   "cell_type": "code",
   "execution_count": 44,
   "id": "d2e824be",
   "metadata": {},
   "outputs": [
    {
     "data": {
      "text/plain": [
       "2"
      ]
     },
     "execution_count": 44,
     "metadata": {},
     "output_type": "execute_result"
    }
   ],
   "source": [
    "task1.count(\"Ruzaina\")"
   ]
  },
  {
   "cell_type": "code",
   "execution_count": 45,
   "id": "96fee408",
   "metadata": {},
   "outputs": [],
   "source": [
    "task1.insert(2,\"sakshi\")"
   ]
  },
  {
   "cell_type": "code",
   "execution_count": 46,
   "id": "a79f8ca1",
   "metadata": {},
   "outputs": [
    {
     "data": {
      "text/plain": [
       "['saurav', 'Ruzaina', 'sakshi', 'amisha', 'lovely', 'vicky', 'yash', 'Ruzaina']"
      ]
     },
     "execution_count": 46,
     "metadata": {},
     "output_type": "execute_result"
    }
   ],
   "source": [
    "task1"
   ]
  },
  {
   "cell_type": "code",
   "execution_count": 47,
   "id": "890656be",
   "metadata": {},
   "outputs": [
    {
     "data": {
      "text/plain": [
       "'Ruzaina'"
      ]
     },
     "execution_count": 47,
     "metadata": {},
     "output_type": "execute_result"
    }
   ],
   "source": [
    "task1.pop()"
   ]
  },
  {
   "cell_type": "code",
   "execution_count": 48,
   "id": "ab59b7b7",
   "metadata": {},
   "outputs": [
    {
     "data": {
      "text/plain": [
       "['saurav', 'Ruzaina', 'sakshi', 'amisha', 'lovely', 'vicky', 'yash']"
      ]
     },
     "execution_count": 48,
     "metadata": {},
     "output_type": "execute_result"
    }
   ],
   "source": [
    "task1"
   ]
  },
  {
   "cell_type": "code",
   "execution_count": 49,
   "id": "7a43fdc1",
   "metadata": {},
   "outputs": [
    {
     "data": {
      "text/plain": [
       "'lovely'"
      ]
     },
     "execution_count": 49,
     "metadata": {},
     "output_type": "execute_result"
    }
   ],
   "source": [
    "task1.pop(4)"
   ]
  },
  {
   "cell_type": "code",
   "execution_count": 50,
   "id": "7a4f2963",
   "metadata": {},
   "outputs": [
    {
     "data": {
      "text/plain": [
       "['saurav', 'Ruzaina', 'sakshi', 'amisha', 'vicky', 'yash']"
      ]
     },
     "execution_count": 50,
     "metadata": {},
     "output_type": "execute_result"
    }
   ],
   "source": [
    "task1"
   ]
  },
  {
   "cell_type": "code",
   "execution_count": 51,
   "id": "e3e2e671",
   "metadata": {},
   "outputs": [
    {
     "data": {
      "text/plain": [
       "['yash', 'vicky', 'amisha', 'sakshi', 'Ruzaina', 'saurav']"
      ]
     },
     "execution_count": 51,
     "metadata": {},
     "output_type": "execute_result"
    }
   ],
   "source": [
    "task1.reverse()\n",
    "task1"
   ]
  },
  {
   "cell_type": "code",
   "execution_count": 52,
   "id": "1e51a637",
   "metadata": {},
   "outputs": [
    {
     "data": {
      "text/plain": [
       "6"
      ]
     },
     "execution_count": 52,
     "metadata": {},
     "output_type": "execute_result"
    }
   ],
   "source": [
    "len(task1)"
   ]
  },
  {
   "cell_type": "code",
   "execution_count": null,
   "id": "8c1535de",
   "metadata": {},
   "outputs": [],
   "source": [
    "##Dictionary\n",
    "#tel = {'jack': 4098, 'sape': 4139}\n",
    "#tel['guido'] = 4127\n",
    "#tel\n",
    "#tel['jack']\n",
    "#del tel['sape']\n",
    "#tel['irv'] = 4127\n",
    "#tel"
   ]
  },
  {
   "cell_type": "code",
   "execution_count": 53,
   "id": "6856919d",
   "metadata": {},
   "outputs": [],
   "source": [
    "tel={\"jacl\":4098,\"sape\":4139}"
   ]
  },
  {
   "cell_type": "code",
   "execution_count": 54,
   "id": "dfd25377",
   "metadata": {},
   "outputs": [],
   "source": [
    "tel[\"guido\"]=4127"
   ]
  },
  {
   "cell_type": "code",
   "execution_count": 55,
   "id": "92c61878",
   "metadata": {},
   "outputs": [
    {
     "data": {
      "text/plain": [
       "{'jacl': 4098, 'sape': 4139, 'guido': 4127}"
      ]
     },
     "execution_count": 55,
     "metadata": {},
     "output_type": "execute_result"
    }
   ],
   "source": [
    "tel"
   ]
  },
  {
   "cell_type": "code",
   "execution_count": 56,
   "id": "8545fd1a",
   "metadata": {},
   "outputs": [
    {
     "data": {
      "text/plain": [
       "4139"
      ]
     },
     "execution_count": 56,
     "metadata": {},
     "output_type": "execute_result"
    }
   ],
   "source": [
    "tel[\"sape\"]"
   ]
  },
  {
   "cell_type": "code",
   "execution_count": 57,
   "id": "a56e384d",
   "metadata": {},
   "outputs": [
    {
     "data": {
      "text/plain": [
       "{'jacl': 4098, 'sape': 4139, 'guido': 4127}"
      ]
     },
     "execution_count": 57,
     "metadata": {},
     "output_type": "execute_result"
    }
   ],
   "source": [
    "tel"
   ]
  },
  {
   "cell_type": "code",
   "execution_count": null,
   "id": "b52d6244",
   "metadata": {},
   "outputs": [],
   "source": [
    "#my_dict = {\"username\": \"XYZ\", \"email\": \"xyz@gmail.com\", \"location\":\"Mumbai\"}\n",
    "#print(\"username :\", my_dict['username'])\n",
    "#print(\"email : \", my_dict[\"email\"])\n",
    "#print(\"location : \", my_dict[\"location\"])"
   ]
  },
  {
   "cell_type": "code",
   "execution_count": 58,
   "id": "b554745a",
   "metadata": {},
   "outputs": [],
   "source": [
    "my_dict={\"username\":\"xyz\",\"email\":\"xyz@gmail.com\",\"location\":\"mumbai\"}"
   ]
  },
  {
   "cell_type": "code",
   "execution_count": 59,
   "id": "133f2801",
   "metadata": {},
   "outputs": [
    {
     "name": "stdout",
     "output_type": "stream",
     "text": [
      "username xyz\n"
     ]
    }
   ],
   "source": [
    "print(\"username\",my_dict['username'])"
   ]
  },
  {
   "cell_type": "code",
   "execution_count": 60,
   "id": "91688161",
   "metadata": {},
   "outputs": [
    {
     "name": "stdout",
     "output_type": "stream",
     "text": [
      "location mumbai\n"
     ]
    }
   ],
   "source": [
    "print(\"location\",my_dict[\"location\"])"
   ]
  },
  {
   "cell_type": "code",
   "execution_count": 61,
   "id": "e7591928",
   "metadata": {},
   "outputs": [
    {
     "name": "stdout",
     "output_type": "stream",
     "text": [
      "email xyz@gmail.com\n"
     ]
    }
   ],
   "source": [
    "print(\"email\",my_dict[\"email\"])"
   ]
  },
  {
   "cell_type": "code",
   "execution_count": null,
   "id": "0c60d340",
   "metadata": {},
   "outputs": [],
   "source": [
    "## adding key\n",
    "#my_dict = {\"username\": \"XYZ\", \"email\": \"xyz@gmail.com\", \"location\":\"Mumbai\"}\n",
    "#my_dict['name']='Nick'\n",
    "#print(my_dict)"
   ]
  },
  {
   "cell_type": "code",
   "execution_count": 62,
   "id": "7fc72f40",
   "metadata": {},
   "outputs": [],
   "source": [
    "my_dict[\"name\"]=\"Nick\""
   ]
  },
  {
   "cell_type": "code",
   "execution_count": 63,
   "id": "f3645dcd",
   "metadata": {},
   "outputs": [
    {
     "name": "stdout",
     "output_type": "stream",
     "text": [
      "{'username': 'xyz', 'email': 'xyz@gmail.com', 'location': 'mumbai', 'name': 'Nick'}\n"
     ]
    }
   ],
   "source": [
    "print(my_dict)"
   ]
  },
  {
   "cell_type": "code",
   "execution_count": null,
   "id": "95654bd4",
   "metadata": {},
   "outputs": [],
   "source": [
    "##updating value\n",
    "#my_dict = {\"username\": \"XYZ\", \"email\": \"xyz@gmail.com\", \"location\":\"Mumbai\"}\n",
    "#my_dict[\"username\"] = \"ABC\"\n",
    "#print(my_dict)"
   ]
  },
  {
   "cell_type": "code",
   "execution_count": 64,
   "id": "043e67f0",
   "metadata": {},
   "outputs": [
    {
     "name": "stdout",
     "output_type": "stream",
     "text": [
      "{'username': 'ABC', 'email': 'xyz@gmail.com', 'location': 'mumbai', 'name': 'Nick'}\n"
     ]
    }
   ],
   "source": [
    "my_dict[\"username\"]=\"ABC\"\n",
    "print(my_dict)"
   ]
  },
  {
   "cell_type": "code",
   "execution_count": null,
   "id": "3ef21276",
   "metadata": {},
   "outputs": [],
   "source": [
    "#del my_dict['location'] # This will remove the element with your key.\n",
    "#my_dict\n",
    "#my_dict.pop(\"username\")\n",
    "#print(my_dict)\n",
    "#my_dict.clear()"
   ]
  },
  {
   "cell_type": "code",
   "execution_count": 66,
   "id": "8d3458a6",
   "metadata": {},
   "outputs": [],
   "source": [
    "del my_dict['email']"
   ]
  },
  {
   "cell_type": "code",
   "execution_count": 67,
   "id": "bdb74d8f",
   "metadata": {},
   "outputs": [
    {
     "data": {
      "text/plain": [
       "{'username': 'ABC', 'location': 'mumbai', 'name': 'Nick'}"
      ]
     },
     "execution_count": 67,
     "metadata": {},
     "output_type": "execute_result"
    }
   ],
   "source": [
    "my_dict"
   ]
  },
  {
   "cell_type": "code",
   "execution_count": 68,
   "id": "9f385fa8",
   "metadata": {},
   "outputs": [],
   "source": [
    "my_dict.clear()"
   ]
  },
  {
   "cell_type": "code",
   "execution_count": 69,
   "id": "86b376a6",
   "metadata": {},
   "outputs": [
    {
     "name": "stdout",
     "output_type": "stream",
     "text": [
      "{}\n"
     ]
    }
   ],
   "source": [
    "print(my_dict)"
   ]
  },
  {
   "cell_type": "code",
   "execution_count": null,
   "id": "2213069e",
   "metadata": {},
   "outputs": [],
   "source": [
    "#Task : Do create dictionary with keys : Sports_id ,Sportname ,playername and give related values .\n",
    "#\n",
    "#Perform add,update with new key : country with value , delete and clear operation on this dictionary."
   ]
  },
  {
   "cell_type": "code",
   "execution_count": 71,
   "id": "77962427",
   "metadata": {},
   "outputs": [],
   "source": [
    "\n",
    "player={\"sports_id\":\"123\",\"sportname\":\"PUBG\",\"player_Name\":\"Yamraj\"}"
   ]
  },
  {
   "cell_type": "code",
   "execution_count": 72,
   "id": "9f5c5ee3",
   "metadata": {},
   "outputs": [],
   "source": [
    "\n",
    "player[\"county\"]=\"India\""
   ]
  },
  {
   "cell_type": "code",
   "execution_count": 73,
   "id": "ae804b6b",
   "metadata": {},
   "outputs": [
    {
     "name": "stdout",
     "output_type": "stream",
     "text": [
      "{'sports_id': '123', 'sportname': 'PUBG', 'player_Name': 'Yamraj', 'county': 'India'}\n"
     ]
    }
   ],
   "source": [
    "print(player)"
   ]
  },
  {
   "cell_type": "code",
   "execution_count": 74,
   "id": "25a4b5a9",
   "metadata": {},
   "outputs": [
    {
     "data": {
      "text/plain": [
       "{}"
      ]
     },
     "execution_count": 74,
     "metadata": {},
     "output_type": "execute_result"
    }
   ],
   "source": [
    "player.clear()\n",
    "player"
   ]
  },
  {
   "cell_type": "code",
   "execution_count": null,
   "id": "e9c72b0e",
   "metadata": {},
   "outputs": [],
   "source": [
    "#Student of DataScience\n",
    "#Student of Datatrained-Ruzaina khan\n"
   ]
  },
  {
   "cell_type": "code",
   "execution_count": null,
   "id": "8a4c2ffe",
   "metadata": {},
   "outputs": [],
   "source": []
  }
 ],
 "metadata": {
  "kernelspec": {
   "display_name": "Python 3 (ipykernel)",
   "language": "python",
   "name": "python3"
  },
  "language_info": {
   "codemirror_mode": {
    "name": "ipython",
    "version": 3
   },
   "file_extension": ".py",
   "mimetype": "text/x-python",
   "name": "python",
   "nbconvert_exporter": "python",
   "pygments_lexer": "ipython3",
   "version": "3.9.12"
  }
 },
 "nbformat": 4,
 "nbformat_minor": 5
}
