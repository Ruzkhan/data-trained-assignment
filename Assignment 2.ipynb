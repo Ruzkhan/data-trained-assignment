{
 "cells": [
  {
   "cell_type": "code",
   "execution_count": null,
   "id": "c31ba061",
   "metadata": {},
   "outputs": [],
   "source": [
    "#Data Structures\n",
    "\n",
    "#Do practice the code given below and complete the task .\n",
    "\n",
    "#squares = [1, 4, 9, 16, 25]\n",
    "\n",
    "#squares\n",
    "\n",
    "#squares[0] # indexing returns the item\n",
    "\n",
    "#squares[-1]\n",
    "\n",
    "#squares[-3:]\n",
    "\n",
    "#squares[:]"
   ]
  },
  {
   "cell_type": "code",
   "execution_count": 1,
   "id": "f5d61339",
   "metadata": {},
   "outputs": [],
   "source": [
    "squares = [1, 4, 9, 16, 25]"
   ]
  },
  {
   "cell_type": "code",
   "execution_count": 2,
   "id": "1bdfbf23",
   "metadata": {},
   "outputs": [
    {
     "data": {
      "text/plain": [
       "1"
      ]
     },
     "execution_count": 2,
     "metadata": {},
     "output_type": "execute_result"
    }
   ],
   "source": [
    "squares[0]"
   ]
  },
  {
   "cell_type": "code",
   "execution_count": 3,
   "id": "d3efcd04",
   "metadata": {},
   "outputs": [
    {
     "data": {
      "text/plain": [
       "25"
      ]
     },
     "execution_count": 3,
     "metadata": {},
     "output_type": "execute_result"
    }
   ],
   "source": [
    "squares[-1]"
   ]
  },
  {
   "cell_type": "code",
   "execution_count": 4,
   "id": "7b0be64c",
   "metadata": {},
   "outputs": [
    {
     "data": {
      "text/plain": [
       "[9, 16, 25]"
      ]
     },
     "execution_count": 4,
     "metadata": {},
     "output_type": "execute_result"
    }
   ],
   "source": [
    "squares[-3:]"
   ]
  },
  {
   "cell_type": "code",
   "execution_count": 5,
   "id": "efbda88d",
   "metadata": {},
   "outputs": [
    {
     "data": {
      "text/plain": [
       "[1, 4, 9, 16, 25]"
      ]
     },
     "execution_count": 5,
     "metadata": {},
     "output_type": "execute_result"
    }
   ],
   "source": [
    "squares[:]"
   ]
  },
  {
   "cell_type": "code",
   "execution_count": null,
   "id": "509516f8",
   "metadata": {},
   "outputs": [],
   "source": [
    "#cubes = [1, 8, 27, 65, 125]\n",
    "\n",
    "#cubes[3] = 64\n",
    "\n",
    "#cubes\n",
    "\n",
    "#cubes.append(216) # add the cube of 6\n",
    "\n",
    "#cubes.append(7 ** 3) # and the cube of 7\n",
    "\n",
    "#cubes"
   ]
  },
  {
   "cell_type": "code",
   "execution_count": 6,
   "id": "cf28883a",
   "metadata": {},
   "outputs": [],
   "source": [
    "cubes=[1,8,27,65,125]"
   ]
  },
  {
   "cell_type": "code",
   "execution_count": 7,
   "id": "5ec283cc",
   "metadata": {},
   "outputs": [
    {
     "data": {
      "text/plain": [
       "65"
      ]
     },
     "execution_count": 7,
     "metadata": {},
     "output_type": "execute_result"
    }
   ],
   "source": [
    "cubes[3]"
   ]
  },
  {
   "cell_type": "code",
   "execution_count": 14,
   "id": "03bcc351",
   "metadata": {},
   "outputs": [],
   "source": [
    "cubes.append(216)\n"
   ]
  },
  {
   "cell_type": "code",
   "execution_count": 15,
   "id": "7abc9d4f",
   "metadata": {},
   "outputs": [
    {
     "data": {
      "text/plain": [
       "[1, 8, 27, 65, 125, 18, 18, 216, 343, 216]"
      ]
     },
     "execution_count": 15,
     "metadata": {},
     "output_type": "execute_result"
    }
   ],
   "source": [
    "cubes"
   ]
  },
  {
   "cell_type": "code",
   "execution_count": null,
   "id": "2781699d",
   "metadata": {},
   "outputs": [],
   "source": [
    "#letters = ['a', 'b', 'c', 'd', 'e', 'f', 'g']\n",
    "\n",
    "#letters"
   ]
  },
  {
   "cell_type": "code",
   "execution_count": 16,
   "id": "2e9021dc",
   "metadata": {},
   "outputs": [
    {
     "data": {
      "text/plain": [
       "['a', 'b', 'c', 'd', 'e', 'f', 'g']"
      ]
     },
     "execution_count": 16,
     "metadata": {},
     "output_type": "execute_result"
    }
   ],
   "source": [
    "letters = ['a', 'b', 'c', 'd', 'e', 'f', 'g']\n",
    "\n",
    "letters"
   ]
  },
  {
   "cell_type": "code",
   "execution_count": null,
   "id": "a13d5c59",
   "metadata": {},
   "outputs": [],
   "source": [
    "# replace some values\n",
    "\n",
    "#letters[2:5] = ['C', 'D', 'E']\n",
    "\n",
    "#letters\n",
    "\n",
    "#len(letters)"
   ]
  },
  {
   "cell_type": "code",
   "execution_count": 1,
   "id": "b9551a91",
   "metadata": {},
   "outputs": [
    {
     "ename": "NameError",
     "evalue": "name 'letters' is not defined",
     "output_type": "error",
     "traceback": [
      "\u001b[1;31m---------------------------------------------------------------------------\u001b[0m",
      "\u001b[1;31mNameError\u001b[0m                                 Traceback (most recent call last)",
      "Input \u001b[1;32mIn [1]\u001b[0m, in \u001b[0;36m<cell line: 1>\u001b[1;34m()\u001b[0m\n\u001b[1;32m----> 1\u001b[0m \u001b[43mletters\u001b[49m[\u001b[38;5;241m2\u001b[39m:\u001b[38;5;241m5\u001b[39m]\n",
      "\u001b[1;31mNameError\u001b[0m: name 'letters' is not defined"
     ]
    }
   ],
   "source": [
    "letters[2:5]"
   ]
  },
  {
   "cell_type": "code",
   "execution_count": null,
   "id": "d983c61a",
   "metadata": {},
   "outputs": [],
   "source": []
  },
  {
   "cell_type": "code",
   "execution_count": null,
   "id": "2201ee20",
   "metadata": {},
   "outputs": [],
   "source": []
  }
 ],
 "metadata": {
  "kernelspec": {
   "display_name": "Python 3 (ipykernel)",
   "language": "python",
   "name": "python3"
  },
  "language_info": {
   "codemirror_mode": {
    "name": "ipython",
    "version": 3
   },
   "file_extension": ".py",
   "mimetype": "text/x-python",
   "name": "python",
   "nbconvert_exporter": "python",
   "pygments_lexer": "ipython3",
   "version": "3.9.12"
  }
 },
 "nbformat": 4,
 "nbformat_minor": 5
}
