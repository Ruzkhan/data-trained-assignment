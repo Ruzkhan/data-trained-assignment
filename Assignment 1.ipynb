{
 "cells": [
  {
   "cell_type": "code",
   "execution_count": null,
   "id": "075d929f",
   "metadata": {},
   "outputs": [],
   "source": [
    "#Assignment 1\n"
   ]
  },
  {
   "cell_type": "code",
   "execution_count": 1,
   "id": "27e610b1",
   "metadata": {},
   "outputs": [],
   "source": [
    "#Python basics\n",
    "#Here you will find lot of basic codes in python to make self practice. Start writing the codes \n",
    "#given below in jupyter notebook.\n",
    "#\n",
    "#While writing the code you will find few task to be completed . Few of them are provided with hint\n",
    "#and solutions.\n",
    "#\n",
    "#And many of task you may complete n your own.\n",
    "#\n",
    "#Happy Practicing!\n",
    "#\n",
    "#\n",
    "#\n",
    "#Practice these commands on Jupyter notebook\n",
    "#\n",
    "# 8+4\n",
    "#\n",
    "#16*5\n",
    "#\n",
    "# 50 - 5*6\n",
    "#\n",
    "#(50 - 5*6) / 4"
   ]
  },
  {
   "cell_type": "code",
   "execution_count": 2,
   "id": "dc5f8727",
   "metadata": {},
   "outputs": [],
   "source": [
    "#1"
   ]
  },
  {
   "cell_type": "code",
   "execution_count": 3,
   "id": "13351b3b",
   "metadata": {},
   "outputs": [
    {
     "data": {
      "text/plain": [
       "12"
      ]
     },
     "execution_count": 3,
     "metadata": {},
     "output_type": "execute_result"
    }
   ],
   "source": [
    "8+4"
   ]
  },
  {
   "cell_type": "code",
   "execution_count": 4,
   "id": "42243736",
   "metadata": {},
   "outputs": [],
   "source": [
    "#2"
   ]
  },
  {
   "cell_type": "code",
   "execution_count": 5,
   "id": "a1c73a55",
   "metadata": {},
   "outputs": [
    {
     "data": {
      "text/plain": [
       "80"
      ]
     },
     "execution_count": 5,
     "metadata": {},
     "output_type": "execute_result"
    }
   ],
   "source": [
    "16*5"
   ]
  },
  {
   "cell_type": "code",
   "execution_count": 6,
   "id": "df193f3e",
   "metadata": {},
   "outputs": [],
   "source": [
    "#3\n"
   ]
  },
  {
   "cell_type": "code",
   "execution_count": 7,
   "id": "eed5b585",
   "metadata": {},
   "outputs": [
    {
     "data": {
      "text/plain": [
       "20"
      ]
     },
     "execution_count": 7,
     "metadata": {},
     "output_type": "execute_result"
    }
   ],
   "source": [
    "50-5*6"
   ]
  },
  {
   "cell_type": "code",
   "execution_count": 8,
   "id": "92922194",
   "metadata": {},
   "outputs": [],
   "source": [
    "#4"
   ]
  },
  {
   "cell_type": "code",
   "execution_count": 9,
   "id": "e5817cde",
   "metadata": {},
   "outputs": [
    {
     "data": {
      "text/plain": [
       "42.5"
      ]
     },
     "execution_count": 9,
     "metadata": {},
     "output_type": "execute_result"
    }
   ],
   "source": [
    "50-5*6/4"
   ]
  },
  {
   "cell_type": "code",
   "execution_count": 10,
   "id": "7f528c64",
   "metadata": {},
   "outputs": [],
   "source": [
    "# Now Write comment\n",
    "\n",
    "# This is my first program.\n",
    "\n",
    "# It prints the phrase \"Hello, World\"\n",
    "\n",
    "# The comments are longer than the code!\n",
    "\n",
    "#greeting = \"Hello World of Python\"\n",
    "#\n",
    "#print(greeting)\n",
    "#\n",
    "# 8 / 5 # division always returns a floating point number\n",
    "#\n",
    "#17 / 3 # classic division returns a float\n",
    "#\n",
    "#17 // 3 # floor division discards the fractional part\n",
    "#\n",
    "#17 % 3 # the % operator returns the remainder of the division\n",
    "#\n",
    "#5 * 3 + 2 # result * divisor + remainder\n",
    "#\n",
    "# 5 ** 2 # 5 squared\n",
    "#\n",
    "#2 ** 7 # 2 to the power of 7\n",
    "#\n",
    "#width = 20\n",
    "#\n",
    "#height = 5 * 9\n",
    "#\n",
    "#width * height\n",
    "#\n",
    "#print(width)\n",
    "#\n",
    "#print(\"The value of width=\",width) # use single quote\n",
    "#\n",
    "#print('The value of width is=\", width) # use double quote\n",
    "#\n",
    "#print(\"Value=\",width*height)\n",
    "#\n",
    "#"
   ]
  },
  {
   "cell_type": "code",
   "execution_count": 11,
   "id": "c56344e2",
   "metadata": {},
   "outputs": [
    {
     "data": {
      "text/plain": [
       "'Hello, World!'"
      ]
     },
     "execution_count": 11,
     "metadata": {},
     "output_type": "execute_result"
    }
   ],
   "source": [
    "\"Hello, World!\""
   ]
  },
  {
   "cell_type": "code",
   "execution_count": 12,
   "id": "e25106e8",
   "metadata": {},
   "outputs": [],
   "source": [
    "greeting = \"Hello World of Python\""
   ]
  },
  {
   "cell_type": "code",
   "execution_count": 13,
   "id": "5209d04d",
   "metadata": {},
   "outputs": [
    {
     "name": "stdout",
     "output_type": "stream",
     "text": [
      "Hello World of Python\n"
     ]
    }
   ],
   "source": [
    "print(greeting)"
   ]
  },
  {
   "cell_type": "code",
   "execution_count": 14,
   "id": "0a591daf",
   "metadata": {},
   "outputs": [],
   "source": [
    "#division always returns a floating point number"
   ]
  },
  {
   "cell_type": "code",
   "execution_count": 15,
   "id": "b9105164",
   "metadata": {},
   "outputs": [
    {
     "data": {
      "text/plain": [
       "1.6"
      ]
     },
     "execution_count": 15,
     "metadata": {},
     "output_type": "execute_result"
    }
   ],
   "source": [
    "8/5"
   ]
  },
  {
   "cell_type": "code",
   "execution_count": 16,
   "id": "3846ff74",
   "metadata": {},
   "outputs": [],
   "source": [
    " # classic division returns a float"
   ]
  },
  {
   "cell_type": "code",
   "execution_count": 17,
   "id": "911f8cd7",
   "metadata": {},
   "outputs": [
    {
     "data": {
      "text/plain": [
       "5.666666666666667"
      ]
     },
     "execution_count": 17,
     "metadata": {},
     "output_type": "execute_result"
    }
   ],
   "source": [
    "17 / 3"
   ]
  },
  {
   "cell_type": "code",
   "execution_count": 18,
   "id": "3799ab3d",
   "metadata": {},
   "outputs": [],
   "source": [
    " # floor division discards the fractional part"
   ]
  },
  {
   "cell_type": "code",
   "execution_count": 19,
   "id": "043f5284",
   "metadata": {},
   "outputs": [
    {
     "data": {
      "text/plain": [
       "5"
      ]
     },
     "execution_count": 19,
     "metadata": {},
     "output_type": "execute_result"
    }
   ],
   "source": [
    "17 // 3"
   ]
  },
  {
   "cell_type": "code",
   "execution_count": 20,
   "id": "4e5a2304",
   "metadata": {},
   "outputs": [],
   "source": [
    " # the % operator returns the remainder of the division"
   ]
  },
  {
   "cell_type": "code",
   "execution_count": 21,
   "id": "a965b5be",
   "metadata": {},
   "outputs": [
    {
     "data": {
      "text/plain": [
       "2"
      ]
     },
     "execution_count": 21,
     "metadata": {},
     "output_type": "execute_result"
    }
   ],
   "source": [
    "17 % 3"
   ]
  },
  {
   "cell_type": "code",
   "execution_count": 22,
   "id": "323f5dea",
   "metadata": {},
   "outputs": [],
   "source": [
    "# result * divisor + remainder"
   ]
  },
  {
   "cell_type": "code",
   "execution_count": 23,
   "id": "140e3a01",
   "metadata": {},
   "outputs": [
    {
     "data": {
      "text/plain": [
       "17"
      ]
     },
     "execution_count": 23,
     "metadata": {},
     "output_type": "execute_result"
    }
   ],
   "source": [
    "5 * 3 + 2"
   ]
  },
  {
   "cell_type": "code",
   "execution_count": 24,
   "id": "d2ba9706",
   "metadata": {},
   "outputs": [],
   "source": [
    " # 5 squared"
   ]
  },
  {
   "cell_type": "code",
   "execution_count": 25,
   "id": "e5817a40",
   "metadata": {},
   "outputs": [
    {
     "data": {
      "text/plain": [
       "25"
      ]
     },
     "execution_count": 25,
     "metadata": {},
     "output_type": "execute_result"
    }
   ],
   "source": [
    " 5 ** 2 "
   ]
  },
  {
   "cell_type": "code",
   "execution_count": 26,
   "id": "94295118",
   "metadata": {},
   "outputs": [],
   "source": [
    "#2 to the power of 7"
   ]
  },
  {
   "cell_type": "code",
   "execution_count": 27,
   "id": "a8cbf16b",
   "metadata": {},
   "outputs": [
    {
     "data": {
      "text/plain": [
       "128"
      ]
     },
     "execution_count": 27,
     "metadata": {},
     "output_type": "execute_result"
    }
   ],
   "source": [
    "2**7"
   ]
  },
  {
   "cell_type": "code",
   "execution_count": 28,
   "id": "8f4db3e0",
   "metadata": {},
   "outputs": [],
   "source": [
    "#width = 20\n",
    "\n",
    "#height = 5 * 9\n",
    "\n",
    "#width * height\n",
    "\n",
    "#print(width)\n",
    "\n",
    "#print(\"The value of width=\",width) # use single quote\n",
    "\n",
    "#print('The value of width is=\", width) # use double quote\n",
    "\n",
    "#print(\"Value=\",width*height"
   ]
  },
  {
   "cell_type": "code",
   "execution_count": 29,
   "id": "342b66b2",
   "metadata": {},
   "outputs": [],
   "source": [
    "width=20"
   ]
  },
  {
   "cell_type": "code",
   "execution_count": 30,
   "id": "fe917830",
   "metadata": {},
   "outputs": [],
   "source": [
    "height=5*9"
   ]
  },
  {
   "cell_type": "code",
   "execution_count": 31,
   "id": "4387a379",
   "metadata": {},
   "outputs": [
    {
     "data": {
      "text/plain": [
       "900"
      ]
     },
     "execution_count": 31,
     "metadata": {},
     "output_type": "execute_result"
    }
   ],
   "source": [
    "width*height"
   ]
  },
  {
   "cell_type": "code",
   "execution_count": 32,
   "id": "30493362",
   "metadata": {},
   "outputs": [
    {
     "name": "stdout",
     "output_type": "stream",
     "text": [
      "20\n"
     ]
    }
   ],
   "source": [
    "print(width)"
   ]
  },
  {
   "cell_type": "code",
   "execution_count": 33,
   "id": "840371e7",
   "metadata": {},
   "outputs": [],
   "source": [
    "#print(\"The value of width=\",width) # use single quote\n"
   ]
  },
  {
   "cell_type": "code",
   "execution_count": 34,
   "id": "6578490f",
   "metadata": {},
   "outputs": [
    {
     "name": "stdout",
     "output_type": "stream",
     "text": [
      "The value of width= 20\n"
     ]
    }
   ],
   "source": [
    "print('The value of width=',width)"
   ]
  },
  {
   "cell_type": "code",
   "execution_count": 35,
   "id": "5b2d3212",
   "metadata": {},
   "outputs": [],
   "source": [
    "#print('The value of width is=\", width) # use double quote"
   ]
  },
  {
   "cell_type": "code",
   "execution_count": 36,
   "id": "f73728a9",
   "metadata": {},
   "outputs": [
    {
     "name": "stdout",
     "output_type": "stream",
     "text": [
      "The value of width is= 20\n"
     ]
    }
   ],
   "source": [
    "print(\"The value of width is=\", width)"
   ]
  },
  {
   "cell_type": "code",
   "execution_count": 37,
   "id": "ad2d7c5c",
   "metadata": {},
   "outputs": [],
   "source": [
    "#print(\"Value=\",width*height"
   ]
  },
  {
   "cell_type": "code",
   "execution_count": 38,
   "id": "88a8d0f4",
   "metadata": {},
   "outputs": [
    {
     "name": "stdout",
     "output_type": "stream",
     "text": [
      "Value= 900\n"
     ]
    }
   ],
   "source": [
    "print(\"Value=\",width*height)"
   ]
  },
  {
   "cell_type": "code",
   "execution_count": 39,
   "id": "fda4b2ef",
   "metadata": {},
   "outputs": [],
   "source": [
    "#Now try to print height yourself"
   ]
  },
  {
   "cell_type": "code",
   "execution_count": 40,
   "id": "d824c8d8",
   "metadata": {},
   "outputs": [
    {
     "name": "stdout",
     "output_type": "stream",
     "text": [
      "The value of height is= 45\n"
     ]
    }
   ],
   "source": [
    "print(\"The value of height is=\",height)"
   ]
  },
  {
   "cell_type": "code",
   "execution_count": 41,
   "id": "2724076b",
   "metadata": {},
   "outputs": [],
   "source": [
    "#tax = 12.5 / 100\n",
    "\n",
    "#price = 100.50\n",
    "\n",
    "#price * tax\n",
    "\n",
    "\n",
    "\n",
    "#Task: Now try to print tax and price yourself"
   ]
  },
  {
   "cell_type": "code",
   "execution_count": 42,
   "id": "69855deb",
   "metadata": {},
   "outputs": [],
   "source": [
    "tax=12.5/100"
   ]
  },
  {
   "cell_type": "code",
   "execution_count": 43,
   "id": "00ad63a1",
   "metadata": {},
   "outputs": [],
   "source": [
    "price=100.50"
   ]
  },
  {
   "cell_type": "code",
   "execution_count": 44,
   "id": "e3f37895",
   "metadata": {},
   "outputs": [
    {
     "data": {
      "text/plain": [
       "12.5625"
      ]
     },
     "execution_count": 44,
     "metadata": {},
     "output_type": "execute_result"
    }
   ],
   "source": [
    "price*tax"
   ]
  },
  {
   "cell_type": "code",
   "execution_count": 45,
   "id": "3bfbb01a",
   "metadata": {},
   "outputs": [],
   "source": [
    "# String concatenation\n",
    "\n",
    "#\"The \"+\"Sun\"\n",
    "\n",
    "#\"The \"+\"Moon\"\n",
    "\n",
    "#\"Planets\"+\" Universe\"\n",
    "\n",
    "#string1 = \"Elon\"\n",
    "\n",
    "#string2 = \"Musk\"\n",
    "\n",
    "#magic_string = string1 + string2\n",
    "\n",
    "#magic_string"
   ]
  },
  {
   "cell_type": "code",
   "execution_count": 46,
   "id": "00ea1dcd",
   "metadata": {},
   "outputs": [
    {
     "data": {
      "text/plain": [
       "'The Sun'"
      ]
     },
     "execution_count": 46,
     "metadata": {},
     "output_type": "execute_result"
    }
   ],
   "source": [
    "\"The \"+\"Sun\""
   ]
  },
  {
   "cell_type": "code",
   "execution_count": 47,
   "id": "cad80a5f",
   "metadata": {},
   "outputs": [
    {
     "data": {
      "text/plain": [
       "'The Moon'"
      ]
     },
     "execution_count": 47,
     "metadata": {},
     "output_type": "execute_result"
    }
   ],
   "source": [
    "\"The \"+\"Moon\""
   ]
  },
  {
   "cell_type": "code",
   "execution_count": 48,
   "id": "85b83d2d",
   "metadata": {},
   "outputs": [
    {
     "data": {
      "text/plain": [
       "'Planets Universe'"
      ]
     },
     "execution_count": 48,
     "metadata": {},
     "output_type": "execute_result"
    }
   ],
   "source": [
    "\"Planets\"+\" Universe\""
   ]
  },
  {
   "cell_type": "code",
   "execution_count": 49,
   "id": "5e41b405",
   "metadata": {},
   "outputs": [
    {
     "data": {
      "text/plain": [
       "'ElonMusk'"
      ]
     },
     "execution_count": 49,
     "metadata": {},
     "output_type": "execute_result"
    }
   ],
   "source": [
    "string1 = \"Elon\"\n",
    "\n",
    "string2 = \"Musk\"\n",
    "\n",
    "magic_string = string1 + string2\n",
    "magic_string"
   ]
  },
  {
   "cell_type": "code",
   "execution_count": 50,
   "id": "dc8b99a5",
   "metadata": {},
   "outputs": [],
   "source": [
    "#Make variable firstname and lastname and concatnate them with space."
   ]
  },
  {
   "cell_type": "code",
   "execution_count": 51,
   "id": "01f4fcf1",
   "metadata": {},
   "outputs": [
    {
     "data": {
      "text/plain": [
       "'Ruzainakhan'"
      ]
     },
     "execution_count": 51,
     "metadata": {},
     "output_type": "execute_result"
    }
   ],
   "source": [
    "first_name=\"Ruzaina\"\n",
    "last_name=\"khan\"\n",
    "full_name=first_name+last_name\n",
    "full_name"
   ]
  },
  {
   "cell_type": "code",
   "execution_count": 52,
   "id": "ec711ca1",
   "metadata": {},
   "outputs": [],
   "source": [
    "#Create two strings, use concatenation to add a space between them,\n",
    "\n",
    "#and print the result.\n",
    "\n",
    "# User Input\n",
    "\n",
    "#prompt = \"Hey, what's up? \"\n",
    "\n",
    "#user_input = input(prompt)\n",
    "\n",
    "#print(\"You said: \" + user_input)"
   ]
  },
  {
   "cell_type": "code",
   "execution_count": 53,
   "id": "e56ae2f8",
   "metadata": {},
   "outputs": [
    {
     "name": "stdout",
     "output_type": "stream",
     "text": [
      "Hey, what`s up?good\n"
     ]
    }
   ],
   "source": [
    "prompt=input(\"Hey, what`s up?\")"
   ]
  },
  {
   "cell_type": "code",
   "execution_count": 54,
   "id": "b79caa34",
   "metadata": {},
   "outputs": [
    {
     "name": "stdout",
     "output_type": "stream",
     "text": [
      "How are you,bro?good\n",
      "You said: good\n"
     ]
    }
   ],
   "source": [
    "user_input = input(\"How are you,bro?\")\n",
    "print(\"You said: \" + user_input)"
   ]
  },
  {
   "cell_type": "code",
   "execution_count": 55,
   "id": "281b20ac",
   "metadata": {},
   "outputs": [],
   "source": [
    "#Task: Take user input and make twice of that number"
   ]
  },
  {
   "cell_type": "code",
   "execution_count": 56,
   "id": "02504fe4",
   "metadata": {},
   "outputs": [
    {
     "name": "stdout",
     "output_type": "stream",
     "text": [
      "Enter a number to be double5\n",
      "55\n"
     ]
    }
   ],
   "source": [
    "num=input(\"Enter a number to be double\")\n",
    "double_num=num*2\n",
    "print(double_num)"
   ]
  },
  {
   "cell_type": "code",
   "execution_count": 57,
   "id": "f4295470",
   "metadata": {},
   "outputs": [],
   "source": [
    " #Take user input and make twice of that number and typecast it to float."
   ]
  },
  {
   "cell_type": "code",
   "execution_count": 58,
   "id": "c29196d1",
   "metadata": {},
   "outputs": [
    {
     "name": "stdout",
     "output_type": "stream",
     "text": [
      "Enter a number to be double 67\n",
      "6767.0\n"
     ]
    }
   ],
   "source": [
    "num=input(\"Enter a number to be double \")\n",
    "double_num=float(num*2)\n",
    "print(double_num)\n"
   ]
  },
  {
   "cell_type": "code",
   "execution_count": 59,
   "id": "cf05187e",
   "metadata": {},
   "outputs": [
    {
     "data": {
      "text/plain": [
       "1"
      ]
     },
     "execution_count": 59,
     "metadata": {},
     "output_type": "execute_result"
    }
   ],
   "source": [
    "1\n",
    "\n",
    " #Write a program that uses input() twice to get two numbers from\n",
    "\n",
    "#the user, multiplies the numbers together, and displays the result.\n",
    "\n",
    "#If the user enters 2 and 4, then your program should print the\n",
    "\n",
    "#following text:\n",
    "\n",
    "#The product of 2 and 4 is 8.0"
   ]
  },
  {
   "cell_type": "code",
   "execution_count": 60,
   "id": "bb3d16fa",
   "metadata": {},
   "outputs": [
    {
     "name": "stdout",
     "output_type": "stream",
     "text": [
      "enter your number2\n",
      "enter your number4\n",
      "The product of 2 and 4 is 8.0.\n"
     ]
    }
   ],
   "source": [
    "num1=int(input(\"enter your number\"))\n",
    "num2=int(input(\"enter your number\"))\n",
    "multi=num1*num2\n",
    "print(f\"The product of {num1} and {num2} is {multi}.0.\")"
   ]
  },
  {
   "cell_type": "code",
   "execution_count": 61,
   "id": "e4f3d5c8",
   "metadata": {},
   "outputs": [
    {
     "name": "stdout",
     "output_type": "stream",
     "text": [
      "Enter Your Number2\n",
      "Enter Your Number4\n",
      "The product of 2 and 4 =8\n"
     ]
    }
   ],
   "source": [
    "num1= int(input(\"Enter Your Number\"))\n",
    "num2= int(input(\"Enter Your Number\"))\n",
    "multi=num1 * num2\n",
    "print(f\"The product of {num1} and {num2} ={multi}\")"
   ]
  },
  {
   "cell_type": "code",
   "execution_count": null,
   "id": "3db3a8e4",
   "metadata": {},
   "outputs": [],
   "source": [
    "#Calculate simple interest by taking user input for priciple,rate and time .\n",
    "\n",
    "#Hint:\n",
    "\n",
    "#p=int(input(\"Enter principle\"))\n",
    "\n",
    "----\n",
    "\n",
    "----\n",
    "\n",
    "---\n",
    "\n",
    "#simple_interest=(p*r*t)/100"
   ]
  },
  {
   "cell_type": "code",
   "execution_count": 63,
   "id": "40e97231",
   "metadata": {},
   "outputs": [
    {
     "name": "stdout",
     "output_type": "stream",
     "text": [
      "Enter principle100\n",
      "Enter rate20\n",
      "Enter time2\n",
      "40.0\n"
     ]
    }
   ],
   "source": [
    "p=int(input(\"Enter principle\"))\n",
    "r=int(input(\"Enter rate\"))\n",
    "t=int(input(\"Enter time\"))\n",
    "simple_interest=(p*r*t)/100\n",
    "print(simple_interest)"
   ]
  },
  {
   "cell_type": "code",
   "execution_count": null,
   "id": "045af1a2",
   "metadata": {},
   "outputs": [],
   "source": [
    "#Find length\n",
    "\n",
    "#len(\"abc\")\n",
    "\n",
    "#letters = \"abc\"\n",
    "\n",
    "#len(letters)\n",
    "\n",
    "#Task:\n",
    "\n",
    "#Create a string and print its length using len()."
   ]
  },
  {
   "cell_type": "code",
   "execution_count": 64,
   "id": "ab6cca47",
   "metadata": {},
   "outputs": [
    {
     "data": {
      "text/plain": [
       "3"
      ]
     },
     "execution_count": 64,
     "metadata": {},
     "output_type": "execute_result"
    }
   ],
   "source": [
    "len(\"abc\")\n"
   ]
  },
  {
   "cell_type": "code",
   "execution_count": 65,
   "id": "8e76a080",
   "metadata": {},
   "outputs": [],
   "source": [
    "letters=\"abc\""
   ]
  },
  {
   "cell_type": "code",
   "execution_count": 66,
   "id": "5a96f974",
   "metadata": {},
   "outputs": [
    {
     "data": {
      "text/plain": [
       "7"
      ]
     },
     "execution_count": 66,
     "metadata": {},
     "output_type": "execute_result"
    }
   ],
   "source": [
    "len(\"letters\")"
   ]
  },
  {
   "cell_type": "code",
   "execution_count": 67,
   "id": "508b8e09",
   "metadata": {},
   "outputs": [
    {
     "data": {
      "text/plain": [
       "23"
      ]
     },
     "execution_count": 67,
     "metadata": {},
     "output_type": "execute_result"
    }
   ],
   "source": [
    "my_self=\"My name is Ruzaina Khan\"\n",
    "len(my_self)"
   ]
  },
  {
   "cell_type": "code",
   "execution_count": null,
   "id": "ffde2571",
   "metadata": {},
   "outputs": [],
   "source": [
    "#Student of DataScience\n",
    "#Student of Datatrained-Ruzaina khan\n"
   ]
  }
 ],
 "metadata": {
  "kernelspec": {
   "display_name": "Python 3 (ipykernel)",
   "language": "python",
   "name": "python3"
  },
  "language_info": {
   "codemirror_mode": {
    "name": "ipython",
    "version": 3
   },
   "file_extension": ".py",
   "mimetype": "text/x-python",
   "name": "python",
   "nbconvert_exporter": "python",
   "pygments_lexer": "ipython3",
   "version": "3.9.12"
  }
 },
 "nbformat": 4,
 "nbformat_minor": 5
}
