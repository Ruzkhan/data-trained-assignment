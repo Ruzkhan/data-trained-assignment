{
 "cells": [
  {
   "cell_type": "code",
   "execution_count": 1,
   "id": "1d82c819",
   "metadata": {},
   "outputs": [],
   "source": [
    "#Loops /if\n",
    "\n",
    "#x=0\n",
    "\n",
    "#define a while loop\n",
    "\n",
    "#while(x <4):\n",
    "\n",
    "  #print(x)\n",
    "\n",
    "  #x = x+1"
   ]
  },
  {
   "cell_type": "code",
   "execution_count": 2,
   "id": "91a22aae",
   "metadata": {},
   "outputs": [
    {
     "name": "stdout",
     "output_type": "stream",
     "text": [
      "0\n",
      "1\n",
      "2\n",
      "3\n",
      "4\n"
     ]
    }
   ],
   "source": [
    "x=0\n",
    "while(x<=4):\n",
    "    print(x)\n",
    "    x=x+1"
   ]
  },
  {
   "cell_type": "code",
   "execution_count": 3,
   "id": "ef50406c",
   "metadata": {},
   "outputs": [],
   "source": [
    "#Print First 10 natural numbers using while loop\n",
    "\n",
    "# program 1: Print first 10 natural numbers"
   ]
  },
  {
   "cell_type": "code",
   "execution_count": 4,
   "id": "c35578af",
   "metadata": {},
   "outputs": [
    {
     "name": "stdout",
     "output_type": "stream",
     "text": [
      "1\n",
      "2\n",
      "3\n",
      "4\n",
      "5\n",
      "6\n",
      "7\n",
      "8\n",
      "9\n",
      "10\n"
     ]
    }
   ],
   "source": [
    "x=1\n",
    "while x<=10:\n",
    "    print(x)\n",
    "    x=x+1\n"
   ]
  },
  {
   "cell_type": "code",
   "execution_count": 5,
   "id": "aa95cf84",
   "metadata": {},
   "outputs": [],
   "source": [
    "#for x in range(2,7):\n",
    "\n",
    "  #print(x)"
   ]
  },
  {
   "cell_type": "code",
   "execution_count": 6,
   "id": "97bfea52",
   "metadata": {},
   "outputs": [
    {
     "name": "stdout",
     "output_type": "stream",
     "text": [
      "2\n",
      "3\n",
      "4\n",
      "5\n",
      "6\n"
     ]
    }
   ],
   "source": [
    "for x in range(2,7):\n",
    "    print(x)"
   ]
  },
  {
   "cell_type": "code",
   "execution_count": 7,
   "id": "048911e5",
   "metadata": {},
   "outputs": [],
   "source": [
    "#Months = [\"Jan\",\"Feb\",\"Mar\",\"April\",\"May\",\"June\"]\n",
    "\n",
    "#for m in Months:\n",
    "\n",
    "  #print(m)"
   ]
  },
  {
   "cell_type": "code",
   "execution_count": 8,
   "id": "03373499",
   "metadata": {},
   "outputs": [],
   "source": [
    "Months=[\"Jan\",\"Feb\",\"Mar\",\"April\",\"May\",\"June\"]"
   ]
  },
  {
   "cell_type": "code",
   "execution_count": 9,
   "id": "b654207a",
   "metadata": {},
   "outputs": [
    {
     "name": "stdout",
     "output_type": "stream",
     "text": [
      "Jan\n",
      "Feb\n",
      "Mar\n",
      "April\n",
      "May\n",
      "June\n"
     ]
    }
   ],
   "source": [
    "for m in Months:\n",
    "    print(m)"
   ]
  },
  {
   "cell_type": "code",
   "execution_count": 10,
   "id": "d92db94b",
   "metadata": {},
   "outputs": [],
   "source": [
    "#Measure some strings:\n",
    "\n",
    " #words = ['cat', 'window', 'defenestrate']\n",
    "\n",
    "#for w in words:\n",
    "\n",
    " #print(w)\n",
    "\n",
    "#for w in words:\n",
    "\n",
    " #print(w, len(w))"
   ]
  },
  {
   "cell_type": "code",
   "execution_count": 11,
   "id": "233b0b1c",
   "metadata": {},
   "outputs": [],
   "source": [
    "words=['cat','window','defenestrate']"
   ]
  },
  {
   "cell_type": "code",
   "execution_count": 12,
   "id": "371b175c",
   "metadata": {},
   "outputs": [
    {
     "name": "stdout",
     "output_type": "stream",
     "text": [
      "cat\n",
      "window\n",
      "defenestrate\n"
     ]
    }
   ],
   "source": [
    "for w in words:\n",
    "    print(w)"
   ]
  },
  {
   "cell_type": "code",
   "execution_count": 13,
   "id": "3fa5aa6c",
   "metadata": {},
   "outputs": [
    {
     "name": "stdout",
     "output_type": "stream",
     "text": [
      "cat 3\n",
      "window 6\n",
      "defenestrate 12\n"
     ]
    }
   ],
   "source": [
    "for w in words:\n",
    "    print(w,len(w))"
   ]
  },
  {
   "cell_type": "code",
   "execution_count": 14,
   "id": "c63ebb62",
   "metadata": {},
   "outputs": [],
   "source": [
    "#range(5, 10)\n",
    "\n",
    "#range(0, 10, 3)\n",
    "\n",
    "#list(range(9))"
   ]
  },
  {
   "cell_type": "code",
   "execution_count": 15,
   "id": "5c2705d0",
   "metadata": {},
   "outputs": [
    {
     "name": "stdout",
     "output_type": "stream",
     "text": [
      "5\n",
      "6\n",
      "7\n",
      "8\n",
      "9\n"
     ]
    }
   ],
   "source": [
    "for i in range(5,10):\n",
    "    print(i)"
   ]
  },
  {
   "cell_type": "code",
   "execution_count": 16,
   "id": "d8e7ddeb",
   "metadata": {},
   "outputs": [
    {
     "name": "stdout",
     "output_type": "stream",
     "text": [
      "0\n",
      "3\n",
      "6\n",
      "9\n"
     ]
    }
   ],
   "source": [
    "for i in range(0, 10, 3):\n",
    "    print(i)\n"
   ]
  },
  {
   "cell_type": "code",
   "execution_count": 17,
   "id": "dc847925",
   "metadata": {},
   "outputs": [
    {
     "data": {
      "text/plain": [
       "[0, 1, 2, 3, 4, 5, 6, 7, 8]"
      ]
     },
     "execution_count": 17,
     "metadata": {},
     "output_type": "execute_result"
    }
   ],
   "source": [
    "list(range(9))"
   ]
  },
  {
   "cell_type": "code",
   "execution_count": 18,
   "id": "d4dbece1",
   "metadata": {},
   "outputs": [],
   "source": [
    "#a = ['Mary', 'had', 'a', 'little', 'lamb']\n",
    "\n",
    "#for i in range(len(a)):\n",
    "\n",
    " #print(i)"
   ]
  },
  {
   "cell_type": "code",
   "execution_count": 19,
   "id": "0216e00f",
   "metadata": {},
   "outputs": [
    {
     "name": "stdout",
     "output_type": "stream",
     "text": [
      "0\n",
      "1\n",
      "2\n",
      "3\n",
      "4\n"
     ]
    }
   ],
   "source": [
    "a=['Mary','had','a','little','lamb']\n",
    "for i in range(len(a)):\n",
    "    print(i)"
   ]
  },
  {
   "cell_type": "code",
   "execution_count": 20,
   "id": "d41b7fbd",
   "metadata": {},
   "outputs": [],
   "source": [
    "#x=8\n",
    "\n",
    "#y=4\n",
    "\n",
    " #if(x < y):\n",
    "        #string=\"x is less than y\"\n",
    "\n",
    "    #else:\n",
    "        #string=\"x is greater than y\"\n",
    "\n",
    "    #print (string)"
   ]
  },
  {
   "cell_type": "code",
   "execution_count": 21,
   "id": "48d9c66e",
   "metadata": {},
   "outputs": [
    {
     "name": "stdout",
     "output_type": "stream",
     "text": [
      "x is greater than y\n"
     ]
    }
   ],
   "source": [
    "x=8\n",
    "y=4\n",
    "if (x<y):\n",
    "    st=\"x is less than y\"\n",
    "else:\n",
    "    st=\"x is greater than y\"\n",
    "print(st)    \n",
    "    "
   ]
  },
  {
   "cell_type": "code",
   "execution_count": 22,
   "id": "2be0a71f",
   "metadata": {},
   "outputs": [],
   "source": [
    "#x = int(input(\"Please enter an integer: \"))\n",
    "\n",
    "#Please enter an integer: 42\n",
    "\n",
    " #if x < 0:\n",
    "\n",
    "#... x = 0\n",
    "\n",
    "#... print('Negative changed to zero')\n",
    "\n",
    "#elif x == 0:\n",
    "\n",
    "#... print('Zero')\n",
    "\n",
    "#elif x == 1:\n",
    "\n",
    "#... print('Single')\n",
    "\n",
    "#else:\n",
    "\n",
    "#... print('More')"
   ]
  },
  {
   "cell_type": "code",
   "execution_count": 23,
   "id": "45b85f6c",
   "metadata": {},
   "outputs": [
    {
     "name": "stdout",
     "output_type": "stream",
     "text": [
      "Enter your Number42\n",
      "More than one and zero\n"
     ]
    }
   ],
   "source": [
    "x=int(input(\"Enter your Number\"))\n",
    "if x<=0:\n",
    "    print(\"Negative changed to zero\")\n",
    "elif x==0:\n",
    "    print(\"z is equal to 0\")\n",
    "elif x==1:\n",
    "    print(\"x is equal to q\")\n",
    "else:\n",
    "    print(\"More than one and zero\")"
   ]
  },
  {
   "cell_type": "code",
   "execution_count": 24,
   "id": "82372845",
   "metadata": {},
   "outputs": [],
   "source": [
    "#ask :write a program using if-elif with different country value and total values.\n",
    "\n",
    "#total = 100\n",
    "\n",
    "#country = \"US\"\n",
    "\n",
    "#country = \"AU\"\n",
    "\n",
    "#if country == \"US\":\n",
    "\n",
    "    #if total <= 50:\n",
    "\n",
    "        #print(\"Shipping Cost is $50\")\n",
    "\n",
    "#elif total <= 100:\n",
    "\n",
    "        #print(\"Shipping Cost is $25\")\n",
    "\n",
    "#elif total <= 150:\n",
    "\n",
    "     #print(\"Shipping Costs $5\")\n",
    "\n",
    "#else:\n",
    "\n",
    "        #print(\"FREE\")\n",
    "\n"
   ]
  },
  {
   "cell_type": "code",
   "execution_count": 25,
   "id": "4a06876e",
   "metadata": {},
   "outputs": [
    {
     "name": "stdout",
     "output_type": "stream",
     "text": [
      "Shipping cost is $50\n"
     ]
    }
   ],
   "source": [
    "total=100\n",
    "country=\"AU\"\n",
    "if country ==\"US\":\n",
    "    if total <=50:\n",
    "        print(\"Shipping cost is $50\")\n",
    "elif total<=100:\n",
    "    print(\"Shipping cost is $50\")\n",
    "elif total<=150:\n",
    "    print(\"Shipping cost is $5\")\n",
    "else:\n",
    "    print(\"Shipping is free\")"
   ]
  },
  {
   "cell_type": "code",
   "execution_count": 26,
   "id": "e1705c5a",
   "metadata": {},
   "outputs": [],
   "source": [
    "#if country == \"AU\":\n",
    "#if total <= 50:\n",
    "#print(\"Shipping Cost is $100\")\n",
    "#else:\n",
    "#print(\"FREE\")"
   ]
  },
  {
   "cell_type": "code",
   "execution_count": 27,
   "id": "e4b722de",
   "metadata": {},
   "outputs": [
    {
     "name": "stdout",
     "output_type": "stream",
     "text": [
      "Shipping is free\n"
     ]
    }
   ],
   "source": [
    "total=100\n",
    "if country==\"AU\":\n",
    "    if total<=50:\n",
    "        print(\"Shipping Cost is $100\")\n",
    "    else:\n",
    "        print(\"Shipping is free\")"
   ]
  },
  {
   "cell_type": "code",
   "execution_count": 28,
   "id": "6e92603a",
   "metadata": {},
   "outputs": [],
   "source": [
    "#Task : write a program to find even or odd using for loop /range function.\n",
    "#Soln.\n",
    "#for num in range(2, 10):\n",
    "#... if num % 2 == 0:\n",
    "#... print(\"Found an even number\", num)\n",
    "#... continue\n",
    "#... print(\"Found a number\", num)"
   ]
  },
  {
   "cell_type": "code",
   "execution_count": 29,
   "id": "62f9ef8f",
   "metadata": {},
   "outputs": [
    {
     "name": "stdout",
     "output_type": "stream",
     "text": [
      "Found an even number 2\n",
      "Found an even number 4\n",
      "Found an even number 6\n",
      "Found an even number 8\n"
     ]
    }
   ],
   "source": [
    "for num in range(2,10):\n",
    "    if num % 2==0:\n",
    "        print(\"Found an even number\",num)\n",
    "    else:\n",
    "        continue\n",
    "        print(\"Found a number\",num)\n",
    "    "
   ]
  },
  {
   "cell_type": "code",
   "execution_count": 30,
   "id": "7a8b53b1",
   "metadata": {},
   "outputs": [],
   "source": [
    "#Task :write two different loops for break if x is even number and continue when the number is divide by 5.\n",
    "#Soln.\n",
    "# use the break and continue statements\n",
    "#for x in range (10,20):\n",
    "#if (x == 15): break\n",
    "#if (x % 2 == 0) : continue\n",
    "\n",
    "   #print(x)"
   ]
  },
  {
   "cell_type": "code",
   "execution_count": 31,
   "id": "abcfaf90",
   "metadata": {},
   "outputs": [
    {
     "name": "stdout",
     "output_type": "stream",
     "text": [
      "11\n",
      "13\n"
     ]
    }
   ],
   "source": [
    "for x in range(10,20):\n",
    "    if x==15:\n",
    "        break\n",
    "    if x%2==0:\n",
    "        continue\n",
    "    print(x)   "
   ]
  },
  {
   "cell_type": "code",
   "execution_count": 32,
   "id": "63fe2d5a",
   "metadata": {},
   "outputs": [],
   "source": [
    "#use the break and continue statements\n",
    "#for x in range (10,20):\n",
    "#if (x == 15): break\n",
    "#if (x % 5 == 0) : continue\n",
    "#print(x)"
   ]
  },
  {
   "cell_type": "code",
   "execution_count": 33,
   "id": "0f2e8d27",
   "metadata": {},
   "outputs": [
    {
     "name": "stdout",
     "output_type": "stream",
     "text": [
      "11\n",
      "12\n",
      "13\n",
      "14\n"
     ]
    }
   ],
   "source": [
    "for x in range(10,20):\n",
    "    if x==15:\n",
    "        break\n",
    "    if x%5==0:\n",
    "        continue\n",
    "    print(x)   "
   ]
  },
  {
   "cell_type": "code",
   "execution_count": 34,
   "id": "e8943e2d",
   "metadata": {},
   "outputs": [],
   "source": [
    "#Display numbers divisible by 5 from a list.Iterate the given list of numbers and print only those numbers\n",
    "#which are divisible by 5."
   ]
  },
  {
   "cell_type": "code",
   "execution_count": 35,
   "id": "8d2c0ca1",
   "metadata": {},
   "outputs": [],
   "source": [
    "num = [10, 20, 33, 46, 55]"
   ]
  },
  {
   "cell_type": "code",
   "execution_count": 36,
   "id": "3adb75d4",
   "metadata": {},
   "outputs": [
    {
     "name": "stdout",
     "output_type": "stream",
     "text": [
      "10\n",
      "20\n",
      "55\n"
     ]
    }
   ],
   "source": [
    "for x in num:\n",
    "    if x%5==0:\n",
    "        print(x)\n",
    "    "
   ]
  },
  {
   "cell_type": "code",
   "execution_count": 37,
   "id": "c336f377",
   "metadata": {},
   "outputs": [],
   "source": [
    "#Calculate the sum of all numbers from 1 to a given number"
   ]
  },
  {
   "cell_type": "code",
   "execution_count": 39,
   "id": "247c53b9",
   "metadata": {},
   "outputs": [
    {
     "name": "stdout",
     "output_type": "stream",
     "text": [
      "Enter your number5\n",
      "15 \n",
      "\n",
      "sum is:  15\n"
     ]
    }
   ],
   "source": [
    "num=int(input(\"Enter your number\"))\n",
    "sum=0\n",
    "for i in range(1,num+1):\n",
    "    sum=sum+i\n",
    "print(sum,\"\\n\")\n",
    "print(\"sum is: \", sum)\n",
    "\n"
   ]
  },
  {
   "cell_type": "code",
   "execution_count": null,
   "id": "fc1e8865",
   "metadata": {},
   "outputs": [],
   "source": [
    " #Write a program to print multiplication table of a given number"
   ]
  },
  {
   "cell_type": "code",
   "execution_count": 43,
   "id": "b1715e87",
   "metadata": {},
   "outputs": [
    {
     "name": "stdout",
     "output_type": "stream",
     "text": [
      "Enter your number5\n",
      "5X1=5\n",
      "5X2=10\n",
      "5X3=15\n",
      "5X4=20\n",
      "5X5=25\n",
      "5X6=30\n",
      "5X7=35\n",
      "5X8=40\n",
      "5X9=45\n",
      "5X10=50\n"
     ]
    }
   ],
   "source": [
    "n=int(input(\"Enter your number\"))\n",
    "for i in range(1,11):\n",
    "    print(f\"{n}X{i}={n*i}\")"
   ]
  },
  {
   "cell_type": "code",
   "execution_count": 44,
   "id": "ae00cafb",
   "metadata": {},
   "outputs": [
    {
     "name": "stdout",
     "output_type": "stream",
     "text": [
      "enter your number7\n",
      "7X1=7\n",
      "7X2=14\n",
      "7X3=21\n",
      "7X4=28\n",
      "7X5=35\n",
      "7X6=42\n",
      "7X7=49\n",
      "7X8=56\n",
      "7X9=63\n",
      "7X10=70\n",
      "7X11=77\n",
      "7X12=84\n",
      "7X13=91\n",
      "7X14=98\n",
      "7X15=105\n",
      "7X16=112\n",
      "7X17=119\n",
      "7X18=126\n",
      "7X19=133\n",
      "7X20=140\n"
     ]
    }
   ],
   "source": [
    "n=int(input(\"enter your number\"))\n",
    "for i in range (1,21):\n",
    "    print(f\"{n}X{i}={n*i}\")"
   ]
  },
  {
   "cell_type": "code",
   "execution_count": null,
   "id": "1b5ffb77",
   "metadata": {},
   "outputs": [],
   "source": [
    "#Practice below codes for list comprehension\n",
    "#vec = [-4, -2, 0, 2, 4]\n",
    "# create a new list with the values doubled\n",
    "\n",
    "#[x*2 for x in vec]"
   ]
  },
  {
   "cell_type": "code",
   "execution_count": 45,
   "id": "b8d3794b",
   "metadata": {},
   "outputs": [],
   "source": [
    "vec = [-4, -2, 0, 2, 4]"
   ]
  },
  {
   "cell_type": "code",
   "execution_count": 46,
   "id": "c45ed99d",
   "metadata": {},
   "outputs": [],
   "source": [
    "sal=[x*2 for x in vec]"
   ]
  },
  {
   "cell_type": "code",
   "execution_count": 47,
   "id": "1ffbbe31",
   "metadata": {},
   "outputs": [
    {
     "data": {
      "text/plain": [
       "[-8, -4, 0, 4, 8]"
      ]
     },
     "execution_count": 47,
     "metadata": {},
     "output_type": "execute_result"
    }
   ],
   "source": [
    "sal"
   ]
  },
  {
   "cell_type": "code",
   "execution_count": null,
   "id": "c333770f",
   "metadata": {},
   "outputs": [],
   "source": [
    " #call a method on each element\n",
    "\n",
    "#freshfruit = [' banana', ' loganberry ', 'passion fruit ']\n",
    "\n",
    "#[weapon.strip() for weapon in freshfruit]"
   ]
  },
  {
   "cell_type": "code",
   "execution_count": 48,
   "id": "7861249f",
   "metadata": {},
   "outputs": [],
   "source": [
    "freshfruit=['banana','loganberry','passion fruit']\n"
   ]
  },
  {
   "cell_type": "code",
   "execution_count": 50,
   "id": "5eb5cf7d",
   "metadata": {},
   "outputs": [],
   "source": [
    "fruit=[weapon.strip()for weapon in freshfruit]"
   ]
  },
  {
   "cell_type": "code",
   "execution_count": 51,
   "id": "357d669d",
   "metadata": {},
   "outputs": [
    {
     "data": {
      "text/plain": [
       "['banana', 'loganberry', 'passion fruit']"
      ]
     },
     "execution_count": 51,
     "metadata": {},
     "output_type": "execute_result"
    }
   ],
   "source": [
    "fruit"
   ]
  },
  {
   "cell_type": "code",
   "execution_count": null,
   "id": "c7593490",
   "metadata": {},
   "outputs": [],
   "source": [
    "# create a list of 2-tuples like (number, square)\n",
    "#[(x, x**2) for x in range(6)]\n",
    "#see the output :\n",
    "#[(0, 0), (1, 1), (2, 4), (3, 9), (4, 16), (5, 25)]"
   ]
  },
  {
   "cell_type": "code",
   "execution_count": 53,
   "id": "fe72ef8d",
   "metadata": {},
   "outputs": [
    {
     "data": {
      "text/plain": [
       "[(0, 0), (1, 1), (2, 4), (3, 9), (4, 16), (5, 25)]"
      ]
     },
     "execution_count": 53,
     "metadata": {},
     "output_type": "execute_result"
    }
   ],
   "source": [
    "[(y,y**2)for y in range(6)]"
   ]
  },
  {
   "cell_type": "code",
   "execution_count": null,
   "id": "34e81e11",
   "metadata": {},
   "outputs": [],
   "source": [
    "#To loop over a sequence in sorted order, use the sorted() function which returns a new sorted list while\n",
    "#leaving the source unaltered.\n",
    "#basket = ['apple', 'orange', 'apple', 'pear', 'orange', 'banana']\n",
    "#for f in sorted(set(basket)):\n",
    "#... print(f)"
   ]
  },
  {
   "cell_type": "code",
   "execution_count": 54,
   "id": "c3360890",
   "metadata": {},
   "outputs": [],
   "source": [
    "basket=['apple','orange','apple','pear','orange','banana']"
   ]
  },
  {
   "cell_type": "code",
   "execution_count": 57,
   "id": "44ada65c",
   "metadata": {},
   "outputs": [
    {
     "name": "stdout",
     "output_type": "stream",
     "text": [
      "apple\n",
      "banana\n",
      "orange\n",
      "pear\n"
     ]
    }
   ],
   "source": [
    "for f in sorted(set(basket)):\n",
    "    print(f)\n"
   ]
  },
  {
   "cell_type": "code",
   "execution_count": null,
   "id": "cd5818fb",
   "metadata": {},
   "outputs": [],
   "source": [
    "#To loop over a sequence in reverse, first specify the sequence in a forward direction and then call the\n",
    "#reversed() function.\n",
    "#for i in reversed(range(1, 10, 2)):\n",
    "#... print(i)"
   ]
  },
  {
   "cell_type": "code",
   "execution_count": 58,
   "id": "09c45d2e",
   "metadata": {},
   "outputs": [
    {
     "name": "stdout",
     "output_type": "stream",
     "text": [
      "1\n",
      "3\n",
      "5\n",
      "7\n",
      "9\n"
     ]
    }
   ],
   "source": [
    "for i in range(1,10,2):\n",
    "    print(i)\n"
   ]
  },
  {
   "cell_type": "code",
   "execution_count": 60,
   "id": "ffc64041",
   "metadata": {},
   "outputs": [
    {
     "name": "stdout",
     "output_type": "stream",
     "text": [
      "9\n",
      "7\n",
      "5\n",
      "3\n",
      "1\n"
     ]
    }
   ],
   "source": [
    "for i in reversed(range(1,10,2)):\n",
    "    print(i)"
   ]
  },
  {
   "cell_type": "code",
   "execution_count": null,
   "id": "7fa5ef21",
   "metadata": {},
   "outputs": [],
   "source": []
  },
  {
   "cell_type": "code",
   "execution_count": null,
   "id": "767b09e6",
   "metadata": {},
   "outputs": [],
   "source": []
  }
 ],
 "metadata": {
  "kernelspec": {
   "display_name": "Python 3 (ipykernel)",
   "language": "python",
   "name": "python3"
  },
  "language_info": {
   "codemirror_mode": {
    "name": "ipython",
    "version": 3
   },
   "file_extension": ".py",
   "mimetype": "text/x-python",
   "name": "python",
   "nbconvert_exporter": "python",
   "pygments_lexer": "ipython3",
   "version": "3.9.12"
  }
 },
 "nbformat": 4,
 "nbformat_minor": 5
}
