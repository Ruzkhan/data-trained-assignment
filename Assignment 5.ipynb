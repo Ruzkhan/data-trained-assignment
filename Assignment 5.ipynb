{
 "cells": [
  {
   "cell_type": "code",
   "execution_count": null,
   "id": "c4c9e1de",
   "metadata": {},
   "outputs": [],
   "source": [
    "#Practice the code given below\n",
    "#def square(x):\n",
    "#return x*x\n",
    "#print(square(4))"
   ]
  },
  {
   "cell_type": "code",
   "execution_count": 1,
   "id": "5515223f",
   "metadata": {},
   "outputs": [
    {
     "name": "stdout",
     "output_type": "stream",
     "text": [
      "16\n"
     ]
    }
   ],
   "source": [
    "def square(num):\n",
    "    return num*num\n",
    "print(square(4))"
   ]
  },
  {
   "cell_type": "code",
   "execution_count": null,
   "id": "29a8e017",
   "metadata": {},
   "outputs": [],
   "source": [
    "#def add_numbers(x,y):\n",
    "   #sum = x + y\n",
    "   #return sum\n",
    "#num1 = 5\n",
    "#num2 = 6\n",
    "#print(\"The sum is\", add_numbers(num1, num2))\n"
   ]
  },
  {
   "cell_type": "code",
   "execution_count": 5,
   "id": "d35434a9",
   "metadata": {},
   "outputs": [],
   "source": [
    "num1=5\n",
    "num2=6"
   ]
  },
  {
   "cell_type": "code",
   "execution_count": 6,
   "id": "60a36c3d",
   "metadata": {},
   "outputs": [],
   "source": [
    "def add_numbers(x,y):\n",
    "    return num1+num2"
   ]
  },
  {
   "cell_type": "code",
   "execution_count": 7,
   "id": "7aeffa8d",
   "metadata": {},
   "outputs": [
    {
     "name": "stdout",
     "output_type": "stream",
     "text": [
      "The sum is 11\n"
     ]
    }
   ],
   "source": [
    "print(\"The sum is\", add_numbers(5,6))"
   ]
  },
  {
   "cell_type": "code",
   "execution_count": null,
   "id": "753d7319",
   "metadata": {},
   "outputs": [],
   "source": [
    "#Write a program to create a function that takes two arguments, name and age, and print their value.\n"
   ]
  },
  {
   "cell_type": "code",
   "execution_count": 9,
   "id": "15814bd0",
   "metadata": {},
   "outputs": [],
   "source": [
    "def func(name,age):\n",
    "    print(f\"The Name of func is {name}and age is {age}\")"
   ]
  },
  {
   "cell_type": "code",
   "execution_count": 11,
   "id": "29981e60",
   "metadata": {},
   "outputs": [
    {
     "name": "stdout",
     "output_type": "stream",
     "text": [
      "The Name of func is Ruzainaand age is 26\n"
     ]
    }
   ],
   "source": [
    "func(\"Ruzaina\",26)"
   ]
  },
  {
   "cell_type": "code",
   "execution_count": null,
   "id": "0590e30d",
   "metadata": {},
   "outputs": [],
   "source": [
    "\n",
    "#Task : Write a function absolute_value to find absolute of a given number.\n",
    "#Soln.\n",
    "#def absolute_value(num):\n",
    "   # \"\"\"This function returns the absolute\n",
    "    #value of the entered number\"\"\"\n",
    "    #if num >= 0:\n",
    "     #   return num\n",
    "    #else:\n",
    "       # return -num\n",
    "#print(absolute_value(2))\n",
    "#print(absolute_value(-4))"
   ]
  },
  {
   "cell_type": "code",
   "execution_count": 12,
   "id": "226afb9a",
   "metadata": {},
   "outputs": [],
   "source": [
    "def absolute_value(num):\n",
    "    if num>=0:\n",
    "        return num\n",
    "    else:\n",
    "        return num"
   ]
  },
  {
   "cell_type": "code",
   "execution_count": 13,
   "id": "639cbacc",
   "metadata": {},
   "outputs": [
    {
     "name": "stdout",
     "output_type": "stream",
     "text": [
      "2\n"
     ]
    }
   ],
   "source": [
    "print(absolute_value(2))"
   ]
  },
  {
   "cell_type": "code",
   "execution_count": 14,
   "id": "1e33e1f6",
   "metadata": {},
   "outputs": [
    {
     "name": "stdout",
     "output_type": "stream",
     "text": [
      "-4\n"
     ]
    }
   ],
   "source": [
    "print(absolute_value(-4))"
   ]
  },
  {
   "cell_type": "code",
   "execution_count": null,
   "id": "8142eee7",
   "metadata": {},
   "outputs": [],
   "source": [
    "#Task : write a function multiply to calculate multiplication of two numbers by taking as a arguments.\n",
    "#Soln.\n",
    "#def multiply(x,y):\n",
    "# print\"value of x=\",x\n",
    " #print\"value of y=\",y\n",
    " #return x*y\n",
    "#print multiply(2,4)"
   ]
  },
  {
   "cell_type": "code",
   "execution_count": 17,
   "id": "ba9293f7",
   "metadata": {},
   "outputs": [],
   "source": [
    "def multiply(num1,num2):\n",
    "    print(\"value of x=\",num1)\n",
    "    print(\"value of y=\",num2)\n",
    "    return num1*num2"
   ]
  },
  {
   "cell_type": "code",
   "execution_count": 19,
   "id": "6c56a0f1",
   "metadata": {},
   "outputs": [
    {
     "name": "stdout",
     "output_type": "stream",
     "text": [
      "value of x= 2\n",
      "value of y= 4\n"
     ]
    },
    {
     "data": {
      "text/plain": [
       "8"
      ]
     },
     "execution_count": 19,
     "metadata": {},
     "output_type": "execute_result"
    }
   ],
   "source": [
    " multiply(2,4)"
   ]
  },
  {
   "cell_type": "code",
   "execution_count": null,
   "id": "ef3cd978",
   "metadata": {},
   "outputs": [],
   "source": [
    "#task : write a function division to calculate division of two numbers by taking as a arguments.\n"
   ]
  },
  {
   "cell_type": "code",
   "execution_count": 20,
   "id": "2e6cbcf3",
   "metadata": {},
   "outputs": [],
   "source": [
    "def divide(num1,num2):\n",
    "    print(\"value of x=\",num1)\n",
    "    print(\"value of y=\",num2)\n",
    "    return num1/num2"
   ]
  },
  {
   "cell_type": "code",
   "execution_count": 21,
   "id": "0ee44ec4",
   "metadata": {},
   "outputs": [
    {
     "name": "stdout",
     "output_type": "stream",
     "text": [
      "value of x= 10\n",
      "value of y= 20\n"
     ]
    },
    {
     "data": {
      "text/plain": [
       "0.5"
      ]
     },
     "execution_count": 21,
     "metadata": {},
     "output_type": "execute_result"
    }
   ],
   "source": [
    "divide(10,20)"
   ]
  },
  {
   "cell_type": "code",
   "execution_count": null,
   "id": "0a2ef686",
   "metadata": {},
   "outputs": [],
   "source": [
    "# local variables and global variables\n",
    "#def my_func():\n",
    " #x = 10\n",
    " #print(\"Value inside function:\",x)\n",
    "#x = 20\n",
    "#my_func()\n",
    "#print(\"Value outside function:\",x)\n",
    "#squares = list(map(lambda x: x**2, range(10)))\n",
    "#squares = [x**2 for x in range(10)]"
   ]
  },
  {
   "cell_type": "code",
   "execution_count": 4,
   "id": "adfdb684",
   "metadata": {},
   "outputs": [],
   "source": [
    "def my_func():\n",
    "    x=10\n",
    "    print(\"value inside the function\",x,\" is called local variables\")"
   ]
  },
  {
   "cell_type": "code",
   "execution_count": 2,
   "id": "0ebf2c63",
   "metadata": {},
   "outputs": [],
   "source": [
    "x=20\n",
    "def my_func():\n",
    "    print(\"The value of X is \",x ,\"and its a global variable\")"
   ]
  },
  {
   "cell_type": "code",
   "execution_count": 5,
   "id": "5179c146",
   "metadata": {},
   "outputs": [
    {
     "name": "stdout",
     "output_type": "stream",
     "text": [
      "value inside the function 10  is called local variables\n"
     ]
    }
   ],
   "source": [
    "my_func()"
   ]
  },
  {
   "cell_type": "code",
   "execution_count": null,
   "id": "fac56cd7",
   "metadata": {},
   "outputs": [],
   "source": [
    "#squares = list(map(lambda x: x**2, range(10)))\n",
    "\n"
   ]
  },
  {
   "cell_type": "code",
   "execution_count": 26,
   "id": "fe14d171",
   "metadata": {},
   "outputs": [],
   "source": [
    "squares=list(map(lambda x:x**2, range(10)))"
   ]
  },
  {
   "cell_type": "code",
   "execution_count": 27,
   "id": "6cfdb6a1",
   "metadata": {},
   "outputs": [
    {
     "data": {
      "text/plain": [
       "[0, 1, 4, 9, 16, 25, 36, 49, 64, 81]"
      ]
     },
     "execution_count": 27,
     "metadata": {},
     "output_type": "execute_result"
    }
   ],
   "source": [
    "squares"
   ]
  },
  {
   "cell_type": "code",
   "execution_count": null,
   "id": "15aa9a60",
   "metadata": {},
   "outputs": [],
   "source": [
    "#squares = [x**2 for x in range(10)]"
   ]
  },
  {
   "cell_type": "code",
   "execution_count": 28,
   "id": "d0d67a0f",
   "metadata": {},
   "outputs": [],
   "source": [
    "squares=[x**2 for x in range(10)]"
   ]
  },
  {
   "cell_type": "code",
   "execution_count": 29,
   "id": "9243997b",
   "metadata": {},
   "outputs": [
    {
     "data": {
      "text/plain": [
       "[0, 1, 4, 9, 16, 25, 36, 49, 64, 81]"
      ]
     },
     "execution_count": 29,
     "metadata": {},
     "output_type": "execute_result"
    }
   ],
   "source": [
    "squares"
   ]
  },
  {
   "cell_type": "code",
   "execution_count": null,
   "id": "011a2b4e",
   "metadata": {},
   "outputs": [],
   "source": [
    "#Task : Write the above code to find cube of x.\n",
    "#sequences = [10,2,8,7,5,4,3,11,0, 1]\n",
    "#filtered_result = map (lambda x: x**x, sequences)\n",
    "#print(list(filtered_result))"
   ]
  },
  {
   "cell_type": "code",
   "execution_count": 32,
   "id": "360a866f",
   "metadata": {},
   "outputs": [
    {
     "name": "stdout",
     "output_type": "stream",
     "text": [
      "[1000, 8, 512, 343, 125, 64, 27, 1331, 0, 1]\n"
     ]
    }
   ],
   "source": [
    "sequences=[10,2,8,7,5,4,3,11,0,1]\n",
    "filtered_result=map(lambda x:x**3,sequences)\n",
    "print(list(filtered_result))"
   ]
  },
  {
   "cell_type": "code",
   "execution_count": null,
   "id": "3fc72c25",
   "metadata": {},
   "outputs": [],
   "source": [
    "#Task : write the above code for the expression x**3\n",
    "#sequences = [10,2,8,7,5,4,3,11,0, 1]\n",
    "#filtered_result = filter (lambda x: x > 4, sequences)\n",
    "#print(list(filtered_result))"
   ]
  },
  {
   "cell_type": "code",
   "execution_count": 33,
   "id": "1a8ae7db",
   "metadata": {},
   "outputs": [
    {
     "name": "stdout",
     "output_type": "stream",
     "text": [
      "[10, 8, 7, 5, 11]\n"
     ]
    }
   ],
   "source": [
    "sequences = [10,2,8,7,5,4,3,11,0, 1]\n",
    "filtered_method=filter(lambda x:x>4,sequences)\n",
    "print(list(filtered_method))"
   ]
  },
  {
   "cell_type": "code",
   "execution_count": null,
   "id": "71644ea2",
   "metadata": {},
   "outputs": [],
   "source": [
    "#Task : write the above code for the expression x>5.\n",
    "#squares = []\n",
    "#for x in range(10):\n",
    "#... squares.append(x**2)\n",
    "#print(squares)\n"
   ]
  },
  {
   "cell_type": "code",
   "execution_count": 35,
   "id": "5cbabc8b",
   "metadata": {},
   "outputs": [
    {
     "name": "stdout",
     "output_type": "stream",
     "text": [
      "[0, 1, 4, 9, 16, 25, 36, 49, 64, 81]\n"
     ]
    }
   ],
   "source": [
    "squares=[]\n",
    "for x in range(10):\n",
    "    squares.append(x**2)\n",
    "print(squares)"
   ]
  },
  {
   "cell_type": "code",
   "execution_count": null,
   "id": "e781ffd3",
   "metadata": {},
   "outputs": [],
   "source": [
    "#   Task :\n",
    "#   1. Put the above 4 lines in as user defined function and call the function  \n",
    "#   2.Given two integer numbers return their product only if the product is equal to or lower than\n",
    "#   1000, else return their sum.\n",
    "#   HINT:\n",
    "#   Create a function that will take two numbers as parameters\n",
    "#   Next, Inside a function, multiply two numbers and save their product in a product variable\n",
    "#   Next, use the if condition to check if the product >1000. If yes, return the product\n",
    "#   Otherwise, use the else block to calculate the sum of two numbers and return it."
   ]
  },
  {
   "cell_type": "code",
   "execution_count": 36,
   "id": "ce29d3e3",
   "metadata": {},
   "outputs": [],
   "source": [
    "def my_func(num1,num2):\n",
    "    product=num1*num2\n",
    "    if product>1000:\n",
    "        return product\n",
    "    else:\n",
    "        return num1+num2\n"
   ]
  },
  {
   "cell_type": "code",
   "execution_count": 37,
   "id": "2bed4cdd",
   "metadata": {},
   "outputs": [
    {
     "name": "stdout",
     "output_type": "stream",
     "text": [
      "The result of 1 condition is 1350\n"
     ]
    }
   ],
   "source": [
    "print(\"The result of 1 condition is\",my_func(25,54))"
   ]
  },
  {
   "cell_type": "code",
   "execution_count": 38,
   "id": "1c711b34",
   "metadata": {},
   "outputs": [
    {
     "name": "stdout",
     "output_type": "stream",
     "text": [
      "The result of 1 condition is 9\n"
     ]
    }
   ],
   "source": [
    "print(\"The result of 1 condition is\",my_func(4,5))"
   ]
  },
  {
   "cell_type": "code",
   "execution_count": null,
   "id": "61a5296b",
   "metadata": {},
   "outputs": [],
   "source": [
    "#3 .\n",
    "#Task: Check if the first and last number of a list is the same.\n",
    "#Write a function to return True if the first and last number of a given list is same. \n",
    "#If numbers are different then return False."
   ]
  },
  {
   "cell_type": "code",
   "execution_count": 39,
   "id": "d8af375b",
   "metadata": {},
   "outputs": [],
   "source": [
    "def my_func(numberlist):\n",
    "    first_num=numberlist[0]\n",
    "    last_num=numberlist[-1]\n",
    "    if first_num==last_num:\n",
    "        print(\"True\")\n",
    "    else:\n",
    "        print(\"False\")\n",
    "    "
   ]
  },
  {
   "cell_type": "code",
   "execution_count": 40,
   "id": "c05ff122",
   "metadata": {},
   "outputs": [],
   "source": [
    "number_x=[10,20,30,40,50,10]\n",
    "numbers_y[23,24,78,75,90,45]"
   ]
  },
  {
   "cell_type": "code",
   "execution_count": 41,
   "id": "b47e9a51",
   "metadata": {},
   "outputs": [
    {
     "name": "stdout",
     "output_type": "stream",
     "text": [
      "True\n"
     ]
    }
   ],
   "source": [
    "my_func(number_x)"
   ]
  },
  {
   "cell_type": "code",
   "execution_count": 43,
   "id": "76defc36",
   "metadata": {},
   "outputs": [
    {
     "name": "stdout",
     "output_type": "stream",
     "text": [
      "False\n"
     ]
    }
   ],
   "source": [
    "my_func(numbers_y)"
   ]
  },
  {
   "cell_type": "code",
   "execution_count": null,
   "id": "599b1678",
   "metadata": {},
   "outputs": [],
   "source": []
  }
 ],
 "metadata": {
  "kernelspec": {
   "display_name": "Python 3 (ipykernel)",
   "language": "python",
   "name": "python3"
  },
  "language_info": {
   "codemirror_mode": {
    "name": "ipython",
    "version": 3
   },
   "file_extension": ".py",
   "mimetype": "text/x-python",
   "name": "python",
   "nbconvert_exporter": "python",
   "pygments_lexer": "ipython3",
   "version": "3.9.12"
  }
 },
 "nbformat": 4,
 "nbformat_minor": 5
}
