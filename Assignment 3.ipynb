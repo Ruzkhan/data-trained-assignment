{
 "cells": [
  {
   "cell_type": "code",
   "execution_count": null,
   "id": "1bf7f18b",
   "metadata": {},
   "outputs": [],
   "source": [
    "#String functions\n",
    "\n",
    "#name = \"Tesla\"\n",
    "\n",
    "#name.lower()\n",
    "\n",
    "#name.upper()\n",
    "\n",
    "#len(name)\n",
    "\n",
    "#name.capitalize()\n",
    "\n",
    "#name.isalpha()"
   ]
  },
  {
   "cell_type": "code",
   "execution_count": 1,
   "id": "12b1ef5f",
   "metadata": {},
   "outputs": [],
   "source": [
    "name = \"Tesla\""
   ]
  },
  {
   "cell_type": "code",
   "execution_count": 2,
   "id": "66a51199",
   "metadata": {},
   "outputs": [
    {
     "data": {
      "text/plain": [
       "'tesla'"
      ]
     },
     "execution_count": 2,
     "metadata": {},
     "output_type": "execute_result"
    }
   ],
   "source": [
    "name.lower()"
   ]
  },
  {
   "cell_type": "code",
   "execution_count": 3,
   "id": "c1206b19",
   "metadata": {},
   "outputs": [
    {
     "data": {
      "text/plain": [
       "'TESLA'"
      ]
     },
     "execution_count": 3,
     "metadata": {},
     "output_type": "execute_result"
    }
   ],
   "source": [
    "name.upper()"
   ]
  },
  {
   "cell_type": "code",
   "execution_count": 4,
   "id": "5f7d375f",
   "metadata": {},
   "outputs": [
    {
     "data": {
      "text/plain": [
       "5"
      ]
     },
     "execution_count": 4,
     "metadata": {},
     "output_type": "execute_result"
    }
   ],
   "source": [
    "len(name)"
   ]
  },
  {
   "cell_type": "code",
   "execution_count": 5,
   "id": "bed6c388",
   "metadata": {},
   "outputs": [
    {
     "data": {
      "text/plain": [
       "'Tesla'"
      ]
     },
     "execution_count": 5,
     "metadata": {},
     "output_type": "execute_result"
    }
   ],
   "source": [
    "name.capitalize()"
   ]
  },
  {
   "cell_type": "code",
   "execution_count": 6,
   "id": "8d01b045",
   "metadata": {},
   "outputs": [
    {
     "data": {
      "text/plain": [
       "True"
      ]
     },
     "execution_count": 6,
     "metadata": {},
     "output_type": "execute_result"
    }
   ],
   "source": [
    "name.isalpha()"
   ]
  },
  {
   "cell_type": "code",
   "execution_count": null,
   "id": "6fb688b0",
   "metadata": {},
   "outputs": [],
   "source": [
    "#starship = \"Enterprise\"\n",
    "\n",
    "#starship.startswith(\"en\")\n",
    "\n",
    "#starship.endswith(\"rise\")\n",
    "\n",
    "# replace\n",
    "\n",
    "#str.replace(old, new)"
   ]
  },
  {
   "cell_type": "code",
   "execution_count": 7,
   "id": "87f3b93e",
   "metadata": {},
   "outputs": [],
   "source": [
    "starship = \"Enterprise\""
   ]
  },
  {
   "cell_type": "code",
   "execution_count": 9,
   "id": "84f723d6",
   "metadata": {},
   "outputs": [
    {
     "data": {
      "text/plain": [
       "True"
      ]
     },
     "execution_count": 9,
     "metadata": {},
     "output_type": "execute_result"
    }
   ],
   "source": [
    "starship.startswith(\"En\")\n"
   ]
  },
  {
   "cell_type": "code",
   "execution_count": 10,
   "id": "2605eb2c",
   "metadata": {},
   "outputs": [
    {
     "data": {
      "text/plain": [
       "True"
      ]
     },
     "execution_count": 10,
     "metadata": {},
     "output_type": "execute_result"
    }
   ],
   "source": [
    "starship.endswith(\"rise\")"
   ]
  },
  {
   "cell_type": "code",
   "execution_count": 12,
   "id": "b9e97bd9",
   "metadata": {},
   "outputs": [
    {
     "data": {
      "text/plain": [
       "'Surprise'"
      ]
     },
     "execution_count": 12,
     "metadata": {},
     "output_type": "execute_result"
    }
   ],
   "source": [
    "starship.replace(\"Enterprise\", \"Surprise\")"
   ]
  },
  {
   "cell_type": "code",
   "execution_count": null,
   "id": "5172bd6b",
   "metadata": {},
   "outputs": [],
   "source": [
    "#string = \"Welcome Sir \"\n",
    "\n",
    "# original string\n",
    "\n",
    "#print(string)\n",
    "\n",
    "# with two Parameters\n",
    "\n",
    "#print(string.replace(\"Welcome\",\"GoodBye\"))"
   ]
  },
  {
   "cell_type": "code",
   "execution_count": 15,
   "id": "e8a37f98",
   "metadata": {},
   "outputs": [],
   "source": [
    "string = \"Welcome ,Sir\""
   ]
  },
  {
   "cell_type": "code",
   "execution_count": 16,
   "id": "ed97b160",
   "metadata": {},
   "outputs": [
    {
     "name": "stdout",
     "output_type": "stream",
     "text": [
      "Welcome ,Sir\n"
     ]
    }
   ],
   "source": [
    "print(string)"
   ]
  },
  {
   "cell_type": "code",
   "execution_count": 17,
   "id": "c15710a6",
   "metadata": {},
   "outputs": [
    {
     "name": "stdout",
     "output_type": "stream",
     "text": [
      "GoodBye ,Sir\n"
     ]
    }
   ],
   "source": [
    "print(string.replace(\"Welcome\",\"GoodBye\"))"
   ]
  },
  {
   "cell_type": "code",
   "execution_count": null,
   "id": "3e20d442",
   "metadata": {},
   "outputs": [],
   "source": [
    "#txt = \"I like bananas\"\n",
    "\n",
    "#x = txt.replace(\"bananas\", \"apples\")\n",
    "\n",
    "#print(x)"
   ]
  },
  {
   "cell_type": "code",
   "execution_count": 20,
   "id": "0a7d5982",
   "metadata": {},
   "outputs": [],
   "source": [
    "txt = \"I like bananas\"\n",
    "x = txt.replace(\"bananas\", \"apples\")"
   ]
  },
  {
   "cell_type": "code",
   "execution_count": 21,
   "id": "c5a00c10",
   "metadata": {},
   "outputs": [
    {
     "name": "stdout",
     "output_type": "stream",
     "text": [
      "I like apples\n"
     ]
    }
   ],
   "source": [
    "print(x)"
   ]
  },
  {
   "cell_type": "code",
   "execution_count": null,
   "id": "6655c613",
   "metadata": {},
   "outputs": [],
   "source": [
    "#phrase = \"the surprise is in here somewhere\"\n",
    "\n",
    "#phrase.find(\"surprise\")"
   ]
  },
  {
   "cell_type": "code",
   "execution_count": 23,
   "id": "6fffafd2",
   "metadata": {},
   "outputs": [],
   "source": [
    "phrase = (\"the surprise is in here somewhere\")"
   ]
  },
  {
   "cell_type": "code",
   "execution_count": 24,
   "id": "45aa1c73",
   "metadata": {},
   "outputs": [
    {
     "data": {
      "text/plain": [
       "4"
      ]
     },
     "execution_count": 24,
     "metadata": {},
     "output_type": "execute_result"
    }
   ],
   "source": [
    "phrase.find(\"surprise\")"
   ]
  },
  {
   "cell_type": "code",
   "execution_count": null,
   "id": "acec0ecf",
   "metadata": {},
   "outputs": [],
   "source": [
    "#task 1\n",
    "#Write a program that converts the following strings to lowercase:\n",
    "\n",
    "#\"Animals\", \"Badger\", \"Honey Bee\", \"Honey Badger\". Print each lowercase string on a separate line"
   ]
  },
  {
   "cell_type": "code",
   "execution_count": 25,
   "id": "3df4b405",
   "metadata": {},
   "outputs": [],
   "source": [
    "string1=\"Goat\""
   ]
  },
  {
   "cell_type": "code",
   "execution_count": 26,
   "id": "ea2db0e5",
   "metadata": {},
   "outputs": [
    {
     "data": {
      "text/plain": [
       "'goat'"
      ]
     },
     "execution_count": 26,
     "metadata": {},
     "output_type": "execute_result"
    }
   ],
   "source": [
    "string1.lower()"
   ]
  },
  {
   "cell_type": "code",
   "execution_count": 27,
   "id": "912d509d",
   "metadata": {},
   "outputs": [
    {
     "name": "stdout",
     "output_type": "stream",
     "text": [
      "snake\n"
     ]
    }
   ],
   "source": [
    "string2=\"Snake\"\n",
    "print(string2.lower())"
   ]
  },
  {
   "cell_type": "code",
   "execution_count": 28,
   "id": "34cc2dce",
   "metadata": {},
   "outputs": [
    {
     "name": "stdout",
     "output_type": "stream",
     "text": [
      "honey bee\n"
     ]
    }
   ],
   "source": [
    "string3=\"Honey Bee\"\n",
    "print(string3.lower())"
   ]
  },
  {
   "cell_type": "code",
   "execution_count": null,
   "id": "622fe743",
   "metadata": {},
   "outputs": [],
   "source": [
    "#task2\n",
    "#Write a program that prints out the result of .startswith(\"be\") on\n",
    "\n",
    "#each of the following strings:\n",
    "\n",
    "#string1 = \"Becomes\"\n",
    "\n",
    "#string2 = \"becomes\"\n",
    "\n",
    "#string3 = \"BEAR\"\n",
    "\n",
    "#string4 = \" bEautiful\""
   ]
  },
  {
   "cell_type": "code",
   "execution_count": 31,
   "id": "7f6c2c75",
   "metadata": {},
   "outputs": [
    {
     "name": "stdout",
     "output_type": "stream",
     "text": [
      "False\n"
     ]
    }
   ],
   "source": [
    "string1=\"Becomes\"\n",
    "print(string1.startswith(\"be\"))"
   ]
  },
  {
   "cell_type": "code",
   "execution_count": 30,
   "id": "c25ba338",
   "metadata": {},
   "outputs": [
    {
     "name": "stdout",
     "output_type": "stream",
     "text": [
      "True\n"
     ]
    }
   ],
   "source": [
    "string2=\"becomes\"\n",
    "print(string2.startswith(\"be\"))"
   ]
  },
  {
   "cell_type": "code",
   "execution_count": 41,
   "id": "d15dd74a",
   "metadata": {},
   "outputs": [
    {
     "name": "stdout",
     "output_type": "stream",
     "text": [
      "False\n"
     ]
    }
   ],
   "source": [
    "string3=\"BEAR\"\n",
    "print(string3.startswith(\"be\"))"
   ]
  },
  {
   "cell_type": "code",
   "execution_count": 33,
   "id": "a33946aa",
   "metadata": {},
   "outputs": [
    {
     "name": "stdout",
     "output_type": "stream",
     "text": [
      "False\n"
     ]
    }
   ],
   "source": [
    "string4=\"bEautiful\"\n",
    "print(string4.startswith(\"be\"))"
   ]
  },
  {
   "cell_type": "code",
   "execution_count": null,
   "id": "e9262dc2",
   "metadata": {},
   "outputs": [],
   "source": [
    "#3\n",
    "\n",
    "#Using the same four strings from above, write a program that\n",
    "\n",
    "#uses string methods to alter each string so that .startswith(\"be\")\n",
    "\n",
    "#returns True for all of them"
   ]
  },
  {
   "cell_type": "code",
   "execution_count": 37,
   "id": "f0c35492",
   "metadata": {},
   "outputs": [
    {
     "name": "stdout",
     "output_type": "stream",
     "text": [
      "True\n"
     ]
    }
   ],
   "source": [
    "string1=\"Becomes\"\n",
    "s=string1.casefold()\n",
    "print(s.startswith(\"be\"))"
   ]
  },
  {
   "cell_type": "code",
   "execution_count": 39,
   "id": "488c8534",
   "metadata": {},
   "outputs": [
    {
     "name": "stdout",
     "output_type": "stream",
     "text": [
      "True\n"
     ]
    }
   ],
   "source": [
    "string2=\"becomes\"\n",
    "s=string2.casefold()\n",
    "print(string2.startswith(\"be\"))"
   ]
  },
  {
   "cell_type": "code",
   "execution_count": 40,
   "id": "c31be82e",
   "metadata": {},
   "outputs": [
    {
     "name": "stdout",
     "output_type": "stream",
     "text": [
      "True\n"
     ]
    }
   ],
   "source": [
    "string3=\"BEAR\"\n",
    "s=string3.casefold()\n",
    "print(s.startswith(\"be\"))"
   ]
  },
  {
   "cell_type": "code",
   "execution_count": 44,
   "id": "06826a27",
   "metadata": {},
   "outputs": [
    {
     "name": "stdout",
     "output_type": "stream",
     "text": [
      "True\n"
     ]
    }
   ],
   "source": [
    "string4=\"bEautiful\"\n",
    "s=string4.casefold()\n",
    "print(s.startswith(\"be\"))"
   ]
  },
  {
   "cell_type": "code",
   "execution_count": null,
   "id": "51f0ec98",
   "metadata": {},
   "outputs": [],
   "source": [
    "#Write a program that takes input from the user and displays that\n",
    "\n",
    "#input back."
   ]
  },
  {
   "cell_type": "code",
   "execution_count": 45,
   "id": "76394f34",
   "metadata": {},
   "outputs": [
    {
     "name": "stdout",
     "output_type": "stream",
     "text": [
      "hello, How are you?I am Ruzaina khan\n"
     ]
    }
   ],
   "source": [
    "s=input(\"hello, How are you?\")"
   ]
  },
  {
   "cell_type": "code",
   "execution_count": null,
   "id": "77a35b7f",
   "metadata": {},
   "outputs": [],
   "source": [
    "#Write a program that takes input from the user and displays the\n",
    "\n",
    "#input in lowercase."
   ]
  },
  {
   "cell_type": "code",
   "execution_count": 46,
   "id": "925ff832",
   "metadata": {},
   "outputs": [
    {
     "name": "stdout",
     "output_type": "stream",
     "text": [
      "Enter you name baby Aruz\n",
      "aruz\n"
     ]
    }
   ],
   "source": [
    "s=input(\"Enter you name baby \")\n",
    "p=s.casefold()\n",
    "print(p)"
   ]
  },
  {
   "cell_type": "code",
   "execution_count": null,
   "id": "4c575c0b",
   "metadata": {},
   "outputs": [],
   "source": [
    "#Write a program that takes input from the user and displays the\n",
    "\n",
    "#number of characters/len in the input.\n",
    "\n"
   ]
  },
  {
   "cell_type": "code",
   "execution_count": 2,
   "id": "216cebc2",
   "metadata": {},
   "outputs": [
    {
     "name": "stdout",
     "output_type": "stream",
     "text": [
      "enter your Age babymy age is 26\n"
     ]
    },
    {
     "ename": "ValueError",
     "evalue": "invalid literal for int() with base 10: 'my age is 26'",
     "output_type": "error",
     "traceback": [
      "\u001b[1;31m---------------------------------------------------------------------------\u001b[0m",
      "\u001b[1;31mValueError\u001b[0m                                Traceback (most recent call last)",
      "Input \u001b[1;32mIn [2]\u001b[0m, in \u001b[0;36m<cell line: 1>\u001b[1;34m()\u001b[0m\n\u001b[1;32m----> 1\u001b[0m s\u001b[38;5;241m=\u001b[39m\u001b[38;5;28;43mint\u001b[39;49m\u001b[43m(\u001b[49m\u001b[38;5;28;43minput\u001b[39;49m\u001b[43m(\u001b[49m\u001b[38;5;124;43m\"\u001b[39;49m\u001b[38;5;124;43menter your Age baby\u001b[39;49m\u001b[38;5;124;43m\"\u001b[39;49m\u001b[43m)\u001b[49m\u001b[43m)\u001b[49m\n\u001b[0;32m      2\u001b[0m s\n",
      "\u001b[1;31mValueError\u001b[0m: invalid literal for int() with base 10: 'my age is 26'"
     ]
    }
   ],
   "source": [
    "s=int(input(\"enter your Age\"))\n",
    "s\n"
   ]
  },
  {
   "cell_type": "code",
   "execution_count": 52,
   "id": "3ef03c7e",
   "metadata": {},
   "outputs": [
    {
     "name": "stdout",
     "output_type": "stream",
     "text": [
      "Enter Your Age Baby  my age is 26\n"
     ]
    },
    {
     "ename": "ValueError",
     "evalue": "invalid literal for int() with base 10: 'my age is 26'",
     "output_type": "error",
     "traceback": [
      "\u001b[1;31m---------------------------------------------------------------------------\u001b[0m",
      "\u001b[1;31mValueError\u001b[0m                                Traceback (most recent call last)",
      "Input \u001b[1;32mIn [52]\u001b[0m, in \u001b[0;36m<cell line: 1>\u001b[1;34m()\u001b[0m\n\u001b[1;32m----> 1\u001b[0m s\u001b[38;5;241m=\u001b[39m\u001b[38;5;28;43mint\u001b[39;49m\u001b[43m(\u001b[49m\u001b[38;5;28;43minput\u001b[39;49m\u001b[43m(\u001b[49m\u001b[38;5;124;43m\"\u001b[39;49m\u001b[38;5;124;43mEnter Your Age Baby  \u001b[39;49m\u001b[38;5;124;43m\"\u001b[39;49m\u001b[43m)\u001b[49m\u001b[43m)\u001b[49m\n\u001b[0;32m      2\u001b[0m \u001b[38;5;28mprint\u001b[39m(\u001b[38;5;28mlen\u001b[39m(s))\n",
      "\u001b[1;31mValueError\u001b[0m: invalid literal for int() with base 10: 'my age is 26'"
     ]
    }
   ],
   "source": [
    "s=int(input(\"Enter Your Age Baby  \"))\n",
    "print(len(s))"
   ]
  },
  {
   "cell_type": "code",
   "execution_count": null,
   "id": "374428f5",
   "metadata": {},
   "outputs": [],
   "source": []
  }
 ],
 "metadata": {
  "kernelspec": {
   "display_name": "Python 3 (ipykernel)",
   "language": "python",
   "name": "python3"
  },
  "language_info": {
   "codemirror_mode": {
    "name": "ipython",
    "version": 3
   },
   "file_extension": ".py",
   "mimetype": "text/x-python",
   "name": "python",
   "nbconvert_exporter": "python",
   "pygments_lexer": "ipython3",
   "version": "3.9.12"
  }
 },
 "nbformat": 4,
 "nbformat_minor": 5
}
